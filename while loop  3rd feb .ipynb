{
 "cells": [
  {
   "cell_type": "code",
   "execution_count": 1,
   "metadata": {},
   "outputs": [],
   "source": [
    "# while # comprehension"
   ]
  },
  {
   "cell_type": "code",
   "execution_count": 2,
   "metadata": {},
   "outputs": [
    {
     "name": "stdout",
     "output_type": "stream",
     "text": [
      "1\n",
      "2\n",
      "3\n",
      "4\n",
      "5\n",
      "6\n",
      "7\n",
      "8\n",
      "9\n",
      "10\n"
     ]
    }
   ],
   "source": [
    "a = 1\n",
    "while a <=10:\n",
    "    print(a)\n",
    "    a = a+1"
   ]
  },
  {
   "cell_type": "code",
   "execution_count": 5,
   "metadata": {},
   "outputs": [],
   "source": [
    "# sum of mumber till some point"
   ]
  },
  {
   "cell_type": "code",
   "execution_count": 9,
   "metadata": {},
   "outputs": [
    {
     "data": {
      "text/plain": [
       "15"
      ]
     },
     "execution_count": 9,
     "metadata": {},
     "output_type": "execute_result"
    }
   ],
   "source": [
    "num = int(input(\"Enter the number : \"))\n",
    "i = 0\n",
    "sum = 0\n",
    "while i <=num:\n",
    "    sum  = sum + i\n",
    "    i = i+1\n",
    "sum"
   ]
  },
  {
   "cell_type": "code",
   "execution_count": 13,
   "metadata": {},
   "outputs": [
    {
     "data": {
      "text/plain": [
       "120"
      ]
     },
     "execution_count": 13,
     "metadata": {},
     "output_type": "execute_result"
    }
   ],
   "source": [
    "                                                         #   HOW TO FIND FACTORIAL OUT OF NUMBER \n",
    "num = int(input(\"Enter the number : \"))\n",
    "i = 1\n",
    "product = 1\n",
    "while i <=num:\n",
    "    product  = product * i\n",
    "    i = i+1\n",
    "product\n"
   ]
  },
  {
   "cell_type": "code",
   "execution_count": 14,
   "metadata": {},
   "outputs": [
    {
     "data": {
      "text/plain": [
       "120"
      ]
     },
     "execution_count": 14,
     "metadata": {},
     "output_type": "execute_result"
    }
   ],
   "source": [
    "        # another method to find factoral   \n",
    "number = int(input(\"Enter your number\"))\n",
    "factorial = 1\n",
    "while number > 0:\n",
    "    factorial = factorial* number\n",
    "    number = number -1\n",
    "factorial\n"
   ]
  },
  {
   "cell_type": "code",
   "execution_count": 15,
   "metadata": {},
   "outputs": [],
   "source": [
    "# finonacci series"
   ]
  },
  {
   "cell_type": "code",
   "execution_count": 21,
   "metadata": {},
   "outputs": [
    {
     "name": "stdout",
     "output_type": "stream",
     "text": [
      "0\n",
      "1\n",
      "1\n",
      "2\n",
      "3\n",
      "5\n"
     ]
    }
   ],
   "source": [
    "number = int(input(\"Enter number of Fibnacci series you want \"))\n",
    "a,b = 0,1\n",
    "counter = 0\n",
    "while (counter <number):\n",
    "    print(a)\n",
    "    c =a+b \n",
    "    a = b \n",
    "    b = c\n",
    "    counter = counter + 1\n"
   ]
  },
  {
   "cell_type": "code",
   "execution_count": 23,
   "metadata": {},
   "outputs": [
    {
     "name": "stdout",
     "output_type": "stream",
     "text": [
      "0\n",
      "1\n",
      "1\n",
      "2\n",
      "3\n",
      "5\n",
      "8\n",
      "13\n",
      "21\n",
      "34\n"
     ]
    }
   ],
   "source": [
    "a, b= 0,1\n",
    "for i in range(10):\n",
    "    print(a)\n",
    "    c =a+b \n",
    "    a = b \n",
    "    b = c"
   ]
  },
  {
   "cell_type": "code",
   "execution_count": 26,
   "metadata": {},
   "outputs": [],
   "source": [
    "s= 'sudh'\n"
   ]
  },
  {
   "cell_type": "code",
   "execution_count": 28,
   "metadata": {},
   "outputs": [
    {
     "data": {
      "text/plain": [
       "'hdus'"
      ]
     },
     "execution_count": 28,
     "metadata": {},
     "output_type": "execute_result"
    }
   ],
   "source": [
    "s[::-1]"
   ]
  },
  {
   "cell_type": "code",
   "execution_count": 29,
   "metadata": {},
   "outputs": [
    {
     "name": "stdout",
     "output_type": "stream",
     "text": [
      "irarum\n"
     ]
    }
   ],
   "source": [
    "word = input(\"enter your word\")\n",
    "rev = ''\n",
    "lengthen = len(word)\n",
    "while lengthen >0:\n",
    "     rev = rev + word[lengthen-1]\n",
    "     lengthen = lengthen-1\n",
    "print(rev)"
   ]
  },
  {
   "cell_type": "code",
   "execution_count": 30,
   "metadata": {},
   "outputs": [],
   "source": [
    " #     print table of number"
   ]
  },
  {
   "cell_type": "code",
   "execution_count": 35,
   "metadata": {},
   "outputs": [
    {
     "name": "stdout",
     "output_type": "stream",
     "text": [
      "56 *  1 =  56\n",
      "56 *  2 =  112\n",
      "56 *  3 =  168\n",
      "56 *  4 =  224\n",
      "56 *  5 =  280\n",
      "56 *  6 =  336\n",
      "56 *  7 =  392\n",
      "56 *  8 =  448\n",
      "56 *  9 =  504\n",
      "56 *  10 =  560\n"
     ]
    }
   ],
   "source": [
    "n  = int(input(\"enter your number\"))\n",
    "i = 1\n",
    "while i <=10:\n",
    "    result = n  * i\n",
    "    print(n , \"* \",i, \"= \", result)\n",
    "    i = i + 1\n"
   ]
  },
  {
   "cell_type": "code",
   "execution_count": 36,
   "metadata": {},
   "outputs": [
    {
     "name": "stdout",
     "output_type": "stream",
     "text": [
      "1\n",
      "2\n",
      "3\n",
      "4\n",
      "this will be executed once your while will complete succesfully \n"
     ]
    }
   ],
   "source": [
    "n = 5\n",
    "i = 1\n",
    "while (i<n):\n",
    "    print(i)\n",
    "    i = i + 1\n",
    "else:\n",
    "    print(\"this will be executed once your while will complete succesfully \")"
   ]
  },
  {
   "cell_type": "code",
   "execution_count": 37,
   "metadata": {},
   "outputs": [
    {
     "name": "stdout",
     "output_type": "stream",
     "text": [
      "1\n",
      "2\n"
     ]
    }
   ],
   "source": [
    "n = 5\n",
    "i = 1\n",
    "while (i<n):\n",
    "    print(i)\n",
    "    if i ==2:\n",
    "        break\n",
    "    i = i + 1\n",
    "else:\n",
    "    print(\"this will be executed once your while will complete succesfully \")"
   ]
  },
  {
   "cell_type": "code",
   "execution_count": 1,
   "metadata": {},
   "outputs": [],
   "source": [
    "# comparehension "
   ]
  },
  {
   "cell_type": "code",
   "execution_count": null,
   "metadata": {},
   "outputs": [],
   "source": []
  }
 ],
 "metadata": {
  "kernelspec": {
   "display_name": "Python 3",
   "language": "python",
   "name": "python3"
  },
  "language_info": {
   "codemirror_mode": {
    "name": "ipython",
    "version": 3
   },
   "file_extension": ".py",
   "mimetype": "text/x-python",
   "name": "python",
   "nbconvert_exporter": "python",
   "pygments_lexer": "ipython3",
   "version": "3.9.13"
  },
  "orig_nbformat": 4
 },
 "nbformat": 4,
 "nbformat_minor": 2
}
