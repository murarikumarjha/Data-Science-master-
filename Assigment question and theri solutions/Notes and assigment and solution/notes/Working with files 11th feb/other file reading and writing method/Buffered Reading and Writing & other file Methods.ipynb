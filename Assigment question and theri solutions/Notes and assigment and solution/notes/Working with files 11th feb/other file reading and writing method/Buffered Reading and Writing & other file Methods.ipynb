{
 "cells": [
  {
   "cell_type": "code",
   "execution_count": 10,
   "id": "a611fdae-3f5e-472d-8979-a483dfd2ae3e",
   "metadata": {},
   "outputs": [],
   "source": [
    "import io"
   ]
  },
  {
   "cell_type": "code",
   "execution_count": 16,
   "id": "dd0d4416-3af2-42cb-8dc6-ca5fb2361655",
   "metadata": {},
   "outputs": [],
   "source": [
    "with open('test1.txt','wb') as f:\n",
    "    file = io.BufferedWriter(f)\n",
    "    \n",
    "    file.write(b\"Data Science is the branch of study that integrates programming abilities, subject-matter expertise, and competence in statistics and mathematics to draw valuable insights from data. It is essential for organisations to effectively build and deploy data science capabilities to remain competitive in this Big Data era. Our Data Science Masters Course will help individuals to know about different methodologies that will aid in extracting meaningful insights and adding value to the business.\\n\")\n",
    "    file.write(b\"this is my second line\")\n",
    "    file.flush()"
   ]
  },
  {
   "cell_type": "code",
   "execution_count": 26,
   "id": "de0d6871-a536-408d-9271-65056bbb880b",
   "metadata": {},
   "outputs": [],
   "source": [
    "with open('test1.txt','rb') as f:\n",
    "    file = io.BufferedReader(f)\n",
    "    data = file.read()"
   ]
  },
  {
   "cell_type": "code",
   "execution_count": 27,
   "id": "6f52b921-abbd-404a-a683-eb7b20e1b98f",
   "metadata": {},
   "outputs": [
    {
     "data": {
      "text/plain": [
       "b'Data Science is the branch of study that integrates programming abilities, subject-matter expertise, and competence in statistics and mathematics to draw valuable insights from data. It is essential for organisations to effectively build and deploy data science capabilities to remain competitive in this Big Data era. Our Data Science Masters Course will help individuals to know about different methodologies that will aid in extracting meaningful insights and adding value to the business.\\nthis is my second line'"
      ]
     },
     "execution_count": 27,
     "metadata": {},
     "output_type": "execute_result"
    }
   ],
   "source": [
    "data"
   ]
  },
  {
   "cell_type": "code",
   "execution_count": null,
   "id": "84adbaed-bd14-4db7-ae3f-062933af3469",
   "metadata": {},
   "outputs": [],
   "source": []
  }
 ],
 "metadata": {
  "kernelspec": {
   "display_name": "Python 3 (ipykernel)",
   "language": "python",
   "name": "python3"
  },
  "language_info": {
   "codemirror_mode": {
    "name": "ipython",
    "version": 3
   },
   "file_extension": ".py",
   "mimetype": "text/x-python",
   "name": "python",
   "nbconvert_exporter": "python",
   "pygments_lexer": "ipython3",
   "version": "3.10.8"
  }
 },
 "nbformat": 4,
 "nbformat_minor": 5
}
