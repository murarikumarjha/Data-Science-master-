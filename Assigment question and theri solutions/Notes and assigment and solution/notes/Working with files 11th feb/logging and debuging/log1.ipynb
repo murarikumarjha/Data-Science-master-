{
 "cells": [
  {
   "cell_type": "code",
   "execution_count": 4,
   "id": "620a48f4-95fc-4f9f-b8c8-b0ccbf025f8f",
   "metadata": {},
   "outputs": [],
   "source": [
    "import logging"
   ]
  },
  {
   "cell_type": "code",
   "execution_count": 6,
   "id": "da8e6a4b-a17f-4edb-a8d7-14ca871d303c",
   "metadata": {},
   "outputs": [],
   "source": [
    "logging.basicConfig(filename = 'myfile.log',level = logging.INFO)"
   ]
  },
  {
   "cell_type": "code",
   "execution_count": 7,
   "id": "3550fee9-cce5-4e04-a1ec-cdb4c58cc3f9",
   "metadata": {},
   "outputs": [],
   "source": [
    "logging.info(\"This is info of execution\")"
   ]
  },
  {
   "cell_type": "code",
   "execution_count": 8,
   "id": "f569e7b1-478e-458c-b7da-8db0642735ab",
   "metadata": {},
   "outputs": [],
   "source": [
    "logging.info(\"this is print\")"
   ]
  },
  {
   "cell_type": "code",
   "execution_count": 9,
   "id": "a972fbc0-e78f-40fc-84b2-44a8c71876b3",
   "metadata": {},
   "outputs": [],
   "source": [
    "logging.debug(\"THIS IS DEBUG MSG\")"
   ]
  },
  {
   "cell_type": "code",
   "execution_count": 10,
   "id": "81a96f0a-319b-4ee5-b5f7-cdeda4872cef",
   "metadata": {},
   "outputs": [],
   "source": [
    "logging.warning('this is my warning msg')"
   ]
  },
  {
   "cell_type": "code",
   "execution_count": 11,
   "id": "bc54cfce-2b0d-4124-89ff-f0193a78ebaa",
   "metadata": {},
   "outputs": [],
   "source": [
    "logging.error(\"This is my error message\")"
   ]
  },
  {
   "cell_type": "code",
   "execution_count": 12,
   "id": "fa6df793-dedb-4407-873c-0872a048d416",
   "metadata": {},
   "outputs": [],
   "source": [
    "logging.critical(\"This is my critical message\")"
   ]
  },
  {
   "cell_type": "code",
   "execution_count": 13,
   "id": "817c0c54-ad1f-4358-a60f-11b62c3394c2",
   "metadata": {},
   "outputs": [],
   "source": [
    "logging.shutdown()"
   ]
  },
  {
   "cell_type": "code",
   "execution_count": 15,
   "id": "67b42296-aa3e-4af8-a5fb-9c5c58d3ebb0",
   "metadata": {},
   "outputs": [],
   "source": [
    "logging.basicConfig(filename = \"File.log\" , level = logging.DEBUG, format = '%(asctime)s %(message)s')"
   ]
  },
  {
   "cell_type": "code",
   "execution_count": 16,
   "id": "c4860a0d-12da-48f5-8581-b1c0995a6976",
   "metadata": {},
   "outputs": [],
   "source": [
    "logging.info('THIS IS MY INFO MESSAGE')"
   ]
  },
  {
   "cell_type": "code",
   "execution_count": null,
   "id": "9247d747-b52a-433d-9521-292d730d005c",
   "metadata": {},
   "outputs": [],
   "source": []
  }
 ],
 "metadata": {
  "kernelspec": {
   "display_name": "Python 3 (ipykernel)",
   "language": "python",
   "name": "python3"
  },
  "language_info": {
   "codemirror_mode": {
    "name": "ipython",
    "version": 3
   },
   "file_extension": ".py",
   "mimetype": "text/x-python",
   "name": "python",
   "nbconvert_exporter": "python",
   "pygments_lexer": "ipython3",
   "version": "3.10.8"
  }
 },
 "nbformat": 4,
 "nbformat_minor": 5
}
