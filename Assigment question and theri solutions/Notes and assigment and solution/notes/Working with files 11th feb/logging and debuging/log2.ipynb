{
 "cells": [
  {
   "cell_type": "code",
   "execution_count": 36,
   "id": "7839c61c-9b6a-421b-aed4-4938add26f25",
   "metadata": {
    "jp-MarkdownHeadingCollapsed": true,
    "tags": []
   },
   "outputs": [],
   "source": [
    "import logging"
   ]
  },
  {
   "cell_type": "code",
   "execution_count": 37,
   "id": "860088f1-57ce-4994-ab13-e09016a09f6f",
   "metadata": {},
   "outputs": [],
   "source": [
    "logging.basicConfig(filename = \"File.log\" , level = logging.DEBUG, format = '%(asctime)s %(name)s %(levelname)s %(message)s')"
   ]
  },
  {
   "cell_type": "code",
   "execution_count": 38,
   "id": "3de58b1b-e830-4d37-9f90-5f900c649f24",
   "metadata": {},
   "outputs": [],
   "source": [
    "logging.info(\"this is log_info message\")"
   ]
  },
  {
   "cell_type": "code",
   "execution_count": 39,
   "id": "ff9e1b75-7e6b-4f52-8b34-9aaad4261a5a",
   "metadata": {},
   "outputs": [],
   "source": [
    "logging.error(\"this is log_error message\")"
   ]
  },
  {
   "cell_type": "code",
   "execution_count": 40,
   "id": "51193267-65da-4a1d-b82e-6ec37e2007f2",
   "metadata": {},
   "outputs": [],
   "source": [
    "logging.critical('this is critical message')"
   ]
  },
  {
   "cell_type": "code",
   "execution_count": 41,
   "id": "9241c45e-2341-4ba5-a686-c5459edbc945",
   "metadata": {},
   "outputs": [],
   "source": [
    "logging.shutdown()"
   ]
  },
  {
   "cell_type": "code",
   "execution_count": null,
   "id": "69679e94-9f1e-4245-b18b-e39145f0dfa4",
   "metadata": {},
   "outputs": [],
   "source": []
  },
  {
   "cell_type": "code",
   "execution_count": null,
   "id": "1a786198-b3d4-415d-91b5-d495935bd7d7",
   "metadata": {},
   "outputs": [],
   "source": []
  }
 ],
 "metadata": {
  "kernelspec": {
   "display_name": "Python 3 (ipykernel)",
   "language": "python",
   "name": "python3"
  },
  "language_info": {
   "codemirror_mode": {
    "name": "ipython",
    "version": 3
   },
   "file_extension": ".py",
   "mimetype": "text/x-python",
   "name": "python",
   "nbconvert_exporter": "python",
   "pygments_lexer": "ipython3",
   "version": "3.10.8"
  }
 },
 "nbformat": 4,
 "nbformat_minor": 5
}
