{
 "cells": [
  {
   "cell_type": "code",
   "execution_count": 1,
   "id": "97547c44-710c-4283-8d40-45091757b186",
   "metadata": {},
   "outputs": [],
   "source": [
    "import logging"
   ]
  },
  {
   "cell_type": "code",
   "execution_count": 2,
   "id": "8b053483-9848-4a51-84d4-af3d1fa1b552",
   "metadata": {},
   "outputs": [],
   "source": [
    "logging.basicConfig(filename = \"MYfile.log\" , level = logging.DEBUG , format = '%(asctime)s %(name)s %(levelname)s %(message)s')"
   ]
  },
  {
   "cell_type": "code",
   "execution_count": 3,
   "id": "47a524b6-f8af-4139-b9db-c4cd61091e08",
   "metadata": {},
   "outputs": [],
   "source": [
    "logging.info(\"this is my logging\")"
   ]
  },
  {
   "cell_type": "code",
   "execution_count": 4,
   "id": "a52de2d0-fa43-4151-b0d9-06b52a2a9fbf",
   "metadata": {},
   "outputs": [],
   "source": [
    "logging.error(\"this is my error\")"
   ]
  },
  {
   "cell_type": "code",
   "execution_count": 5,
   "id": "a8e576fa-6206-4ac5-a7f5-d3fe7cb22526",
   "metadata": {},
   "outputs": [],
   "source": [
    "logging.critical(\"This is myk critical\")"
   ]
  },
  {
   "cell_type": "code",
   "execution_count": 6,
   "id": "9585346d-d657-4116-a301-d7ea52d64aff",
   "metadata": {},
   "outputs": [],
   "source": [
    "l = [1,2,3,34,5,[2,345,8],\"sudh\",'kumar']"
   ]
  },
  {
   "cell_type": "code",
   "execution_count": 15,
   "id": "8e656b77-3267-4342-90ff-e2fad1f593bc",
   "metadata": {},
   "outputs": [],
   "source": [
    "l1_int = []\n",
    "l2_str = []\n",
    "for i in l:\n",
    "    logging.info(\"we are iterating through our list and our list and our local var is {}\".format(l))\n",
    "    if type(i) == list :\n",
    "        logging.info(\"i am inside if statement and i am trying to check list type\" + str(i) )\n",
    "        for j in i :\n",
    "            logging.info(\"i am in another for loop  for list inside list element\" + str(j) )\n",
    "            if type(j) ==int :\n",
    "                logging.info(\"i am inside if statement\")\n",
    "                l1_int.append(j)\n",
    "    elif type(i) ==int :\n",
    "        l1_int.append(i)\n",
    "    else:\n",
    "        if type(i) == str :\n",
    "            l2_str.append(i)\n",
    "logging.info(\"my final result for int is {l1} and str is {l2}\".format(l1 = l1_int, l2 = l2_str))"
   ]
  },
  {
   "cell_type": "code",
   "execution_count": 9,
   "id": "9f95fcf5-3863-4401-9faf-a1a729c2c02b",
   "metadata": {},
   "outputs": [
    {
     "data": {
      "text/plain": [
       "[1, 2, 3, 34, 5, 2, 345, 8]"
      ]
     },
     "execution_count": 9,
     "metadata": {},
     "output_type": "execute_result"
    }
   ],
   "source": [
    "l1_int"
   ]
  },
  {
   "cell_type": "code",
   "execution_count": 10,
   "id": "d0b9c9c6-b1da-4630-a130-bd2cce3558d8",
   "metadata": {},
   "outputs": [
    {
     "data": {
      "text/plain": [
       "['sudh', 'kumar']"
      ]
     },
     "execution_count": 10,
     "metadata": {},
     "output_type": "execute_result"
    }
   ],
   "source": [
    "l2_str"
   ]
  },
  {
   "cell_type": "code",
   "execution_count": null,
   "id": "a2adabcf-9c97-4535-ab9b-b36fbc019e83",
   "metadata": {},
   "outputs": [],
   "source": []
  }
 ],
 "metadata": {
  "kernelspec": {
   "display_name": "Python 3 (ipykernel)",
   "language": "python",
   "name": "python3"
  },
  "language_info": {
   "codemirror_mode": {
    "name": "ipython",
    "version": 3
   },
   "file_extension": ".py",
   "mimetype": "text/x-python",
   "name": "python",
   "nbconvert_exporter": "python",
   "pygments_lexer": "ipython3",
   "version": "3.10.8"
  }
 },
 "nbformat": 4,
 "nbformat_minor": 5
}
