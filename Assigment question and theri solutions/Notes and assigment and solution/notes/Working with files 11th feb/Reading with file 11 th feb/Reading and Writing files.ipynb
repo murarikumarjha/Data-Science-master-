{
 "cells": [
  {
   "cell_type": "code",
   "execution_count": 12,
   "id": "4547b3aa-b7c5-4415-8a6d-c83feb8b0d03",
   "metadata": {},
   "outputs": [],
   "source": [
    "data = {\n",
    "    'name' : 'sudh',\n",
    "    'mail_id' : 'sudha@gmail.com',\n",
    "    'phone number' : 93938430 ,   \n",
    "    'subject' : [\"data science\" , \"big data \" , \"data analytic \"]\n",
    "}"
   ]
  },
  {
   "cell_type": "code",
   "execution_count": 13,
   "id": "ecc2f87d-95ec-4bfb-b899-3951edbcbbbc",
   "metadata": {},
   "outputs": [],
   "source": [
    "import json"
   ]
  },
  {
   "cell_type": "code",
   "execution_count": 15,
   "id": "3106ae4e-b1b8-40d8-9dcd-d7ac5635d77e",
   "metadata": {},
   "outputs": [],
   "source": [
    "with open('data.json','w') as f :\n",
    "    json.dump(data ,f)"
   ]
  },
  {
   "cell_type": "code",
   "execution_count": 17,
   "id": "e8741754-564d-4019-af71-ba0b3d3c7ca9",
   "metadata": {},
   "outputs": [],
   "source": [
    "with open('data.json' , 'r' ) as f:\n",
    "    data1 = json.load(f)"
   ]
  },
  {
   "cell_type": "code",
   "execution_count": 18,
   "id": "37878e30-9339-4c31-8264-69e53b0bf5a7",
   "metadata": {},
   "outputs": [
    {
     "data": {
      "text/plain": [
       "{'name': 'sudh',\n",
       " 'mail_id': 'sudha@gmail.com',\n",
       " 'phone number': 93938430,\n",
       " 'subject': ['data science', 'big data ', 'data analytic ']}"
      ]
     },
     "execution_count": 18,
     "metadata": {},
     "output_type": "execute_result"
    }
   ],
   "source": [
    "data1"
   ]
  },
  {
   "cell_type": "code",
   "execution_count": 22,
   "id": "c4b83762-70a0-400b-9453-c0590aaf576f",
   "metadata": {},
   "outputs": [
    {
     "data": {
      "text/plain": [
       "'big data '"
      ]
     },
     "execution_count": 22,
     "metadata": {},
     "output_type": "execute_result"
    }
   ],
   "source": [
    "data1['subject'][1]"
   ]
  },
  {
   "cell_type": "code",
   "execution_count": 23,
   "id": "fe6a1613-e13d-4981-bfad-9fa8fa7dcb6c",
   "metadata": {},
   "outputs": [],
   "source": [
    "import csv"
   ]
  },
  {
   "cell_type": "code",
   "execution_count": 24,
   "id": "44c1766d-d6d9-4e03-b910-6cd667dd4092",
   "metadata": {},
   "outputs": [],
   "source": [
    "data = [\n",
    "    ['name','email_id','phone_number'],\n",
    "    ['sudh','sudah@gmail.com',94848399],\n",
    "    ['krish','krish@gmail.com',893774848]\n",
    "]"
   ]
  },
  {
   "cell_type": "code",
   "execution_count": 31,
   "id": "12fc88aa-fd37-44a0-9a78-99b1df3a2a9a",
   "metadata": {},
   "outputs": [],
   "source": [
    "with open('data.csv','w') as f :\n",
    "    \n",
    "    writer =  csv.writer(f)\n",
    "    \n",
    "    for i in data:\n",
    "        writer.writerow(i)\n",
    "        \n",
    "        \n",
    "            "
   ]
  },
  {
   "cell_type": "code",
   "execution_count": 34,
   "id": "ee8062aa-f3a8-4622-be20-6fc93ee98713",
   "metadata": {},
   "outputs": [
    {
     "name": "stdout",
     "output_type": "stream",
     "text": [
      "['name', 'email_id', 'phone_number']\n",
      "['sudh', 'sudah@gmail.com', '94848399']\n",
      "['krish', 'krish@gmail.com', '893774848']\n"
     ]
    }
   ],
   "source": [
    "with open('data.csv','r') as f:\n",
    "    read_data = csv.reader(f)\n",
    "    \n",
    "    for i in read_data:\n",
    "        print(i)\n"
   ]
  },
  {
   "cell_type": "code",
   "execution_count": 38,
   "id": "7dd8073d-ee5e-4345-ad29-80a8363e7650",
   "metadata": {},
   "outputs": [],
   "source": [
    "with open('test4.bin','wb') as f :\n",
    "    f.write(b'\\x01\\x02\\x038495994')"
   ]
  },
  {
   "cell_type": "code",
   "execution_count": 40,
   "id": "7285bb0c-ae0d-4e3d-aa42-aab7a37a79cb",
   "metadata": {},
   "outputs": [
    {
     "name": "stdout",
     "output_type": "stream",
     "text": [
      "b'\\x01\\x02\\x038495994'\n"
     ]
    }
   ],
   "source": [
    "with open('test4.bin','rb') as f:\n",
    "    print(f.read())"
   ]
  },
  {
   "cell_type": "code",
   "execution_count": null,
   "id": "cc7b2a3a-68bd-4ff7-bb09-787043b679d5",
   "metadata": {},
   "outputs": [],
   "source": []
  }
 ],
 "metadata": {
  "kernelspec": {
   "display_name": "Python 3 (ipykernel)",
   "language": "python",
   "name": "python3"
  },
  "language_info": {
   "codemirror_mode": {
    "name": "ipython",
    "version": 3
   },
   "file_extension": ".py",
   "mimetype": "text/x-python",
   "name": "python",
   "nbconvert_exporter": "python",
   "pygments_lexer": "ipython3",
   "version": "3.10.8"
  }
 },
 "nbformat": 4,
 "nbformat_minor": 5
}
