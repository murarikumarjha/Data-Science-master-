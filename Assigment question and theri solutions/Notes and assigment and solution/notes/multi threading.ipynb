{
 "cells": [
  {
   "cell_type": "code",
   "execution_count": 2,
   "id": "ab07d48d-3c65-44be-9d1f-6f5bb1c34e03",
   "metadata": {},
   "outputs": [],
   "source": [
    "import threading"
   ]
  },
  {
   "cell_type": "code",
   "execution_count": 7,
   "id": "19b3dfa2-bf39-42a4-8e34-841ce53f1374",
   "metadata": {},
   "outputs": [],
   "source": [
    "def test(id):\n",
    "    print(\"prog start %d\" %id)"
   ]
  },
  {
   "cell_type": "code",
   "execution_count": 9,
   "id": "babb92ae-03b0-493c-87b3-c09cf47f81a9",
   "metadata": {},
   "outputs": [
    {
     "name": "stdout",
     "output_type": "stream",
     "text": [
      "prog start 123\n"
     ]
    }
   ],
   "source": [
    "test(123)"
   ]
  },
  {
   "cell_type": "code",
   "execution_count": 10,
   "id": "ada32ee7-6cb4-4be4-90a7-8a4b2358b05f",
   "metadata": {},
   "outputs": [],
   "source": [
    " thread = [threading.Thread(target= test, args = (i,)) for i in range(10)]"
   ]
  },
  {
   "cell_type": "code",
   "execution_count": 12,
   "id": "a36aa8f1-91f8-43f1-a80e-6df96fe47052",
   "metadata": {},
   "outputs": [
    {
     "name": "stdout",
     "output_type": "stream",
     "text": [
      "prog start 0\n",
      "prog start 1\n",
      "prog start 2\n",
      "prog start 3\n",
      "prog start 4\n",
      "prog start 5\n",
      "prog start 6\n",
      "prog start 7\n",
      "prog start 8\n",
      "prog start 9\n"
     ]
    }
   ],
   "source": [
    "for t in thread:\n",
    "    t.start()"
   ]
  },
  {
   "cell_type": "code",
   "execution_count": 15,
   "id": "53d9ecdd-2105-49ec-9a44-54b0b0595342",
   "metadata": {},
   "outputs": [
    {
     "data": {
      "text/plain": [
       "[0, 1, 2, 3, 4, 5, 6, 7, 8, 9]"
      ]
     },
     "execution_count": 15,
     "metadata": {},
     "output_type": "execute_result"
    }
   ],
   "source": [
    "list(range(10))"
   ]
  },
  {
   "cell_type": "code",
   "execution_count": 16,
   "id": "4d23455e-3f32-4aa1-ab4d-092129c9d8d5",
   "metadata": {},
   "outputs": [
    {
     "data": {
      "text/plain": [
       "[<Thread(Thread-5 (test), stopped 139916314920512)>,\n",
       " <Thread(Thread-6 (test), stopped 139916314920512)>,\n",
       " <Thread(Thread-7 (test), stopped 139916314920512)>,\n",
       " <Thread(Thread-8 (test), stopped 139916314920512)>,\n",
       " <Thread(Thread-9 (test), stopped 139916314920512)>,\n",
       " <Thread(Thread-10 (test), stopped 139916306527808)>,\n",
       " <Thread(Thread-11 (test), stopped 139916306527808)>,\n",
       " <Thread(Thread-12 (test), stopped 139916306527808)>,\n",
       " <Thread(Thread-13 (test), stopped 139916306527808)>,\n",
       " <Thread(Thread-14 (test), stopped 139916306527808)>]"
      ]
     },
     "execution_count": 16,
     "metadata": {},
     "output_type": "execute_result"
    }
   ],
   "source": [
    "thread"
   ]
  },
  {
   "cell_type": "code",
   "execution_count": 18,
   "id": "3b5ba5af-b51e-4abd-8ef9-2d8c6527c7e7",
   "metadata": {},
   "outputs": [
    {
     "data": {
      "text/plain": [
       "139916741589824"
      ]
     },
     "execution_count": 18,
     "metadata": {},
     "output_type": "execute_result"
    }
   ],
   "source": [
    "id(thread)"
   ]
  },
  {
   "cell_type": "code",
   "execution_count": 1,
   "id": "02ac2ff7-63c1-4dcc-bbeb-ea8fe94f67b4",
   "metadata": {},
   "outputs": [],
   "source": [
    "import threading\n",
    "import urllib.request\n",
    "def file_download(url, filename):\n",
    "    urllib.request.urlretrieve(url, filename)"
   ]
  },
  {
   "cell_type": "code",
   "execution_count": 2,
   "id": "5cc9bf80-3564-4230-9406-0bba79048ab4",
   "metadata": {},
   "outputs": [],
   "source": [
    "# file_download(\"https://raw.githubusercontent.com/murarikumarjha/git_test/main/Baa%2C%20baa%2C%20black%20sheep.txt\",\"poem1.txt\")"
   ]
  },
  {
   "cell_type": "code",
   "execution_count": 3,
   "id": "9fe06701-364f-4fd8-9a43-249a40ad011d",
   "metadata": {},
   "outputs": [],
   "source": [
    "url_list = ['https://raw.githubusercontent.com/murarikumarjha/git_test/main/Baa%2C%20baa%2C%20black%20sheep.txt','https://raw.githubusercontent.com/murarikumarjha/git_test/main/Humpty%20Dumpty%20sat%20on%20a%20wall..txt','https://raw.githubusercontent.com/murarikumarjha/git_test/main/poem3']"
   ]
  },
  {
   "cell_type": "code",
   "execution_count": 4,
   "id": "6a7146a7-871a-4938-aa3b-39b4086cf79e",
   "metadata": {},
   "outputs": [
    {
     "data": {
      "text/plain": [
       "['https://raw.githubusercontent.com/murarikumarjha/git_test/main/Baa%2C%20baa%2C%20black%20sheep.txt',\n",
       " 'https://raw.githubusercontent.com/murarikumarjha/git_test/main/Humpty%20Dumpty%20sat%20on%20a%20wall..txt',\n",
       " 'https://raw.githubusercontent.com/murarikumarjha/git_test/main/poem3']"
      ]
     },
     "execution_count": 4,
     "metadata": {},
     "output_type": "execute_result"
    }
   ],
   "source": [
    "url_list"
   ]
  },
  {
   "cell_type": "code",
   "execution_count": 5,
   "id": "afe8093f-81d7-4342-9e62-55a6c1fd9bfa",
   "metadata": {},
   "outputs": [],
   "source": [
    "file_name_list = ['data1.txt','data2.txt','data3.txt']"
   ]
  },
  {
   "cell_type": "code",
   "execution_count": 27,
   "id": "01caeeac-50b0-45fb-b348-f4489c46e36b",
   "metadata": {},
   "outputs": [],
   "source": [
    "ther = [threading.Thread(target = file_download, args = (url_list[i], file_name_list[i])) for i in range(len(url_list))]"
   ]
  },
  {
   "cell_type": "code",
   "execution_count": 30,
   "id": "3e73e480-5feb-4bb2-bd0f-b56746fce16a",
   "metadata": {},
   "outputs": [],
   "source": [
    "# print('hii')"
   ]
  },
  {
   "cell_type": "code",
   "execution_count": 28,
   "id": "5b1d3b41-1538-4f6a-9c90-6e10cda4b55f",
   "metadata": {},
   "outputs": [
    {
     "data": {
      "text/plain": [
       "[<Thread(Thread-5 (file_download), initial)>,\n",
       " <Thread(Thread-6 (file_download), initial)>,\n",
       " <Thread(Thread-7 (file_download), initial)>]"
      ]
     },
     "execution_count": 28,
     "metadata": {},
     "output_type": "execute_result"
    }
   ],
   "source": [
    "ther"
   ]
  },
  {
   "cell_type": "code",
   "execution_count": 29,
   "id": "4e37d6eb-5d4a-446b-83d4-f4f1be106438",
   "metadata": {},
   "outputs": [],
   "source": [
    "for t in ther:\n",
    "    t.start()"
   ]
  },
  {
   "cell_type": "code",
   "execution_count": 3,
   "id": "3db49271-8984-4f9c-af7f-14d1994a0293",
   "metadata": {},
   "outputs": [],
   "source": [
    "import time "
   ]
  },
  {
   "cell_type": "code",
   "execution_count": 4,
   "id": "186ab3cc-0ed1-4a4f-93b6-d97ca3234958",
   "metadata": {},
   "outputs": [],
   "source": [
    "def test1(id):\n",
    "    for i in range(10):\n",
    "        print('test1 %d printing %d '%(id, i))\n",
    "        time.sleep(i)"
   ]
  },
  {
   "cell_type": "code",
   "execution_count": 37,
   "id": "1982bdff-0fd0-48ab-a608-568ecb361929",
   "metadata": {},
   "outputs": [
    {
     "name": "stdout",
     "output_type": "stream",
     "text": [
      "test1 1 printing 0 \n",
      "test1 1 printing 1 \n",
      "test1 1 printing 2 \n",
      "test1 1 printing 3 \n",
      "test1 1 printing 4 \n",
      "test1 1 printing 5 \n",
      "test1 1 printing 6 \n",
      "test1 1 printing 7 \n",
      "test1 1 printing 8 \n",
      "test1 1 printing 9 \n"
     ]
    }
   ],
   "source": [
    "test1(1)"
   ]
  },
  {
   "cell_type": "code",
   "execution_count": 19,
   "id": "51c3c1c1-9928-4bdc-ba78-7f0bf305a870",
   "metadata": {},
   "outputs": [],
   "source": [
    "def test1(id):\n",
    "    for i in range(10):\n",
    "        print('test1 %d printing %d %s'%(id, i, time.ctime()))\n",
    "        time.sleep(1)"
   ]
  },
  {
   "cell_type": "code",
   "execution_count": 20,
   "id": "ae70ef78-68ca-4c31-bb98-3901bc8a6947",
   "metadata": {},
   "outputs": [
    {
     "name": "stdout",
     "output_type": "stream",
     "text": [
      "test1 1 printing 0 Fri May 19 03:39:02 2023\n",
      "test1 1 printing 1 Fri May 19 03:39:03 2023\n",
      "test1 1 printing 2 Fri May 19 03:39:04 2023\n",
      "test1 1 printing 3 Fri May 19 03:39:05 2023\n",
      "test1 1 printing 4 Fri May 19 03:39:06 2023\n",
      "test1 1 printing 5 Fri May 19 03:39:07 2023\n",
      "test1 1 printing 6 Fri May 19 03:39:08 2023\n",
      "test1 1 printing 7 Fri May 19 03:39:09 2023\n",
      "test1 1 printing 8 Fri May 19 03:39:10 2023\n",
      "test1 1 printing 9 Fri May 19 03:39:11 2023\n"
     ]
    }
   ],
   "source": [
    "test1(1)"
   ]
  },
  {
   "cell_type": "code",
   "execution_count": 21,
   "id": "54fde846-6365-4faf-8b8f-5a545dfad806",
   "metadata": {},
   "outputs": [],
   "source": [
    "# first leave\n",
    "thread1=[threading.Thread(target = test1, args = (i,)) for i in range(3)]"
   ]
  },
  {
   "cell_type": "code",
   "execution_count": 22,
   "id": "3e5021be-f7ca-4763-82e1-a3dccf987eaa",
   "metadata": {},
   "outputs": [
    {
     "name": "stdout",
     "output_type": "stream",
     "text": [
      "test1 0 printing 0 Fri May 19 03:39:14 2023\n",
      "test1 1 printing 0 Fri May 19 03:39:14 2023\n",
      "test1 2 printing 0 Fri May 19 03:39:14 2023\n",
      "test1 0 printing 1 Fri May 19 03:39:15 2023\n",
      "test1 1 printing 1 Fri May 19 03:39:15 2023\n",
      "test1 2 printing 1 Fri May 19 03:39:15 2023\n",
      "test1 0 printing 2 Fri May 19 03:39:16 2023\n",
      "test1 1 printing 2 Fri May 19 03:39:16 2023\n",
      "test1 2 printing 2 Fri May 19 03:39:16 2023\n",
      "test1 0 printing 3 Fri May 19 03:39:17 2023\n",
      "test1 1 printing 3 Fri May 19 03:39:17 2023\n",
      "test1 2 printing 3 Fri May 19 03:39:17 2023\n",
      "test1 0 printing 4 Fri May 19 03:39:18 2023\n",
      "test1 1 printing 4 Fri May 19 03:39:18 2023\n",
      "test1 2 printing 4 Fri May 19 03:39:18 2023\n",
      "test1 0 printing 5 Fri May 19 03:39:19 2023\n",
      "test1 1 printing 5 Fri May 19 03:39:19 2023\n",
      "test1 2 printing 5 Fri May 19 03:39:19 2023\n",
      "test1 0 printing 6 Fri May 19 03:39:20 2023\n",
      "test1 1 printing 6 Fri May 19 03:39:20 2023\n",
      "test1 2 printing 6 Fri May 19 03:39:20 2023\n",
      "test1 1 printing 7 Fri May 19 03:39:21 2023\n",
      "test1 0 printing 7 Fri May 19 03:39:21 2023\n",
      "test1 2 printing 7 Fri May 19 03:39:21 2023\n",
      "test1 1 printing 8 Fri May 19 03:39:22 2023\n",
      "test1 0 printing 8 Fri May 19 03:39:22 2023\n",
      "test1 2 printing 8 Fri May 19 03:39:22 2023\n",
      "test1 1 printing 9 Fri May 19 03:39:23 2023\n",
      "test1 0 printing 9 Fri May 19 03:39:23 2023\n",
      "test1 2 printing 9 Fri May 19 03:39:23 2023\n"
     ]
    }
   ],
   "source": [
    "for t in thread1:\n",
    "    t.start()"
   ]
  },
  {
   "cell_type": "code",
   "execution_count": 25,
   "id": "2a5cc81b-dc19-41d2-8cbd-e668272ce0fa",
   "metadata": {},
   "outputs": [],
   "source": [
    "shared_var = 0\n",
    "lock_var = threading.Lock()"
   ]
  },
  {
   "cell_type": "code",
   "execution_count": 31,
   "id": "b30a6228-6107-4779-978a-b09be149f848",
   "metadata": {},
   "outputs": [
    {
     "name": "stdout",
     "output_type": "stream",
     "text": [
      "test2 is 0 has increasing the shared variable by 1 \n",
      "test2 is 1 has increasing the shared variable by 2 \n",
      "test2 is 2 has increasing the shared variable by 3 \n"
     ]
    }
   ],
   "source": [
    "shared_var = 0\n",
    "Lock_var = threading.Lock()\n",
    "def test2(id):\n",
    "    global shared_var \n",
    "    with Lock_var:\n",
    "        shared_var = shared_var + 1\n",
    "        print(\"test2 is %d has increasing the shared variable by %d \" %(id, shared_var))\n",
    "        time.sleep(1)\n",
    "ther2 = [threading.Thread(target = test2, args= (i,)) for i in range(3)]\n",
    "for t in ther2:\n",
    "    t.start()\n",
    "        "
   ]
  },
  {
   "cell_type": "code",
   "execution_count": null,
   "id": "d299b3c1-1b93-4c71-917e-3f144f26f25c",
   "metadata": {},
   "outputs": [],
   "source": []
  }
 ],
 "metadata": {
  "kernelspec": {
   "display_name": "Python 3 (ipykernel)",
   "language": "python",
   "name": "python3"
  },
  "language_info": {
   "codemirror_mode": {
    "name": "ipython",
    "version": 3
   },
   "file_extension": ".py",
   "mimetype": "text/x-python",
   "name": "python",
   "nbconvert_exporter": "python",
   "pygments_lexer": "ipython3",
   "version": "3.10.8"
  }
 },
 "nbformat": 4,
 "nbformat_minor": 5
}
