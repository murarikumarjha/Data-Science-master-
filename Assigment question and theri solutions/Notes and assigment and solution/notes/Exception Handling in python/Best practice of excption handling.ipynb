{
 "cells": [
  {
   "cell_type": "code",
   "execution_count": 2,
   "id": "8aa42fdd-5cea-4db5-815f-4667284a398c",
   "metadata": {},
   "outputs": [
    {
     "name": "stdout",
     "output_type": "stream",
     "text": [
      "division by zero\n"
     ]
    }
   ],
   "source": [
    "# use always a specific exception \n",
    "try :\n",
    "    10/0\n",
    "except Exception as e :\n",
    "    print(e)"
   ]
  },
  {
   "cell_type": "code",
   "execution_count": 1,
   "id": "9614e915-388d-4cfe-8a5e-6a9cbf4a5c04",
   "metadata": {},
   "outputs": [
    {
     "name": "stdout",
     "output_type": "stream",
     "text": [
      "division by zero\n"
     ]
    }
   ],
   "source": [
    "# use always a specific exception \n",
    "try :\n",
    "    10/0\n",
    "except ZeroDivisionError as e :\n",
    "    print(e)"
   ]
  },
  {
   "cell_type": "code",
   "execution_count": 3,
   "id": "2b2b5bec-0bd9-44f7-9d7f-a57a882d2a98",
   "metadata": {},
   "outputs": [
    {
     "name": "stdout",
     "output_type": "stream",
     "text": [
      "i am trying to zerodivision error division by zero\n"
     ]
    }
   ],
   "source": [
    "# print always a prorper message \n",
    "try :\n",
    "    10/0\n",
    "except ZeroDivisionError as e :\n",
    "    print('i am trying to zerodivision error', e)"
   ]
  },
  {
   "cell_type": "code",
   "execution_count": 7,
   "id": "b52f9191-64cc-45fc-b690-c142938ca71f",
   "metadata": {},
   "outputs": [],
   "source": [
    "# always try to log your errror \n",
    "import logging\n",
    "logging.basicConfig(filename = \"error.log\", level = logging.ERROR)\n",
    "try :\n",
    "    10/0\n",
    "except ZeroDivisionError as e:\n",
    "    logging.error(\"i am trying t0 handlle a zerodivision error {}\".format(e) )"
   ]
  },
  {
   "cell_type": "code",
   "execution_count": 8,
   "id": "d5e1dd82-6d39-403a-95fe-d1bc1512a2e1",
   "metadata": {},
   "outputs": [],
   "source": [
    "#  always avoid to write a multiple exception handling\n",
    "try :\n",
    "    10/0\n",
    "except FileNotFoundError as e:\n",
    "    logging.error(\"i am handling file not found {}\".format(e))\n",
    "except AttributeError as e :\n",
    "    logging.error(\"i am handling file not found {}\".format(e))\n",
    "except ZeroDivisionError as e :\n",
    "    logging.error(\"i am handling file not found {}\".format(e))"
   ]
  },
  {
   "cell_type": "code",
   "execution_count": 9,
   "id": "9d1a5700-05ca-45b8-b09d-675bbd2044a7",
   "metadata": {},
   "outputs": [],
   "source": [
    "# Document all the errror\n",
    "#  cleanup all the resourses \n",
    "try :\n",
    "    with open('test.txt', 'w') as f :\n",
    "        f.write(\"this is my data to file \")\n",
    "except FileNotFoundError as e :\n",
    "    logging.error(\"i am handling file not found {}\".format(e))"
   ]
  },
  {
   "cell_type": "code",
   "execution_count": null,
   "id": "dc447c06-83bc-44b5-8d11-060d6d94ea12",
   "metadata": {},
   "outputs": [],
   "source": []
  }
 ],
 "metadata": {
  "kernelspec": {
   "display_name": "Python 3 (ipykernel)",
   "language": "python",
   "name": "python3"
  },
  "language_info": {
   "codemirror_mode": {
    "name": "ipython",
    "version": 3
   },
   "file_extension": ".py",
   "mimetype": "text/x-python",
   "name": "python",
   "nbconvert_exporter": "python",
   "pygments_lexer": "ipython3",
   "version": "3.10.8"
  }
 },
 "nbformat": 4,
 "nbformat_minor": 5
}
