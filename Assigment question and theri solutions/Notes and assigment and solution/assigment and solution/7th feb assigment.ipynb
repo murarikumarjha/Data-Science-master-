{
 "cells": [
  {
   "cell_type": "markdown",
   "id": "afe8c849-5eca-43a0-bbee-fdc7994e7cf1",
   "metadata": {},
   "source": [
    "Q1. You are writing code for a company. The requirement of the company is that you create a python\n",
    "function that will check whether the password entered by the user is correct or not. The function should\n",
    "take the password as input and return the string “Valid Password” if the entered password follows the\n",
    "below-given password guidelines else it should return “Invalid Password”.\n",
    "Note: 1. The Password should contain at least two uppercase letters and at least two lowercase letters.\n",
    "2. The Password should contain at least a number and three special characters.\n",
    "3. The length of the password should be 10 characters long."
   ]
  },
  {
   "cell_type": "code",
   "execution_count": null,
   "id": "caf3aa2d-29a7-4bde-a76b-6cdc15e5c330",
   "metadata": {},
   "outputs": [],
   "source": [
    "def check_password(password):\n",
    "    if len(re.findall('[a-z]', password)) >= 2 and len(password) >= 10:\n",
    "        if len(re.findall('[A-Z]', password)) >= 2:\n",
    "            if len(re.findall('[0-9]', password)) >= 1:\n",
    "                if len(re.findall('[@$_]', password)) >= 3:\n",
    "                    return \"Valid Password\"\n",
    "    return \"Invalid Password\"\n",
    "\n",
    "print(check_password('am#r_IT@1'))\n",
    "# Invalid Password\n",
    "\n",
    "print(check_password('am@r_I@1'))\n",
    "# Valid Password"
   ]
  },
  {
   "cell_type": "code",
   "execution_count": null,
   "id": "ae49d33c-569f-41b1-9e4c-34e06af4c94b",
   "metadata": {},
   "outputs": [],
   "source": []
  },
  {
   "cell_type": "raw",
   "id": "1c6f7a41-80b8-4c5c-8e94-0493bee452b9",
   "metadata": {},
   "source": [
    "Q2. Solve the below-given questions using at least one of the following:\n",
    "1. Lambda functioJ\n",
    "2. Filter functioJ\n",
    "3. Zap functioJ\n",
    "4. List ComprehensioI\n",
    "B Check if the string starts with a particular letterY\n",
    "B Check if the string is numericY\n",
    "B Sort a list of tuples having fruit names and their quantity. [(\"mango\",99),(\"orange\",80), (\"grapes\", 1000)-\n",
    "B Find the squares of numbers from 1 to 10Y\n",
    "B Find the cube root of numbers from 1 to 10Y\n",
    "B Check if a given number is evenY\n",
    "B Filter odd numbers from the given list.\n",
    "[1,2,3,4,5,6,7,8,9,10-\n",
    "B Sort a list of integers into positive and negative integers lists.\n",
    "[1,2,3,4,5,6,-1,-2,-3,-4,-5,0]"
   ]
  },
  {
   "cell_type": "markdown",
   "id": "961e7eed-4a46-4562-a133-e5c06d3faea4",
   "metadata": {},
   "source": [
    "eck if the string starts with a particular letterY"
   ]
  },
  {
   "cell_type": "code",
   "execution_count": 6,
   "id": "c13db1a1-5eb8-478d-af7d-6a109871a12a",
   "metadata": {},
   "outputs": [
    {
     "name": "stdout",
     "output_type": "stream",
     "text": [
      "True\n"
     ]
    }
   ],
   "source": [
    "print((lambda x,y : x[0] == y)('Murari', 'M'))"
   ]
  },
  {
   "cell_type": "markdown",
   "id": "fd732976-0051-4442-9ec5-afb5dc194139",
   "metadata": {},
   "source": [
    " Check if the string is numericY\n"
   ]
  },
  {
   "cell_type": "code",
   "execution_count": 14,
   "id": "91873608-87ab-4e9c-8c7a-b97851341cbb",
   "metadata": {},
   "outputs": [
    {
     "name": "stdout",
     "output_type": "stream",
     "text": [
      "True\n"
     ]
    }
   ],
   "source": [
    "print((lambda x: x.isnumeric())('123'))"
   ]
  },
  {
   "cell_type": "markdown",
   "id": "2df85e35-6afa-4f1c-bfc1-50b9a7c1a435",
   "metadata": {},
   "source": [
    "Check if the string is numeric"
   ]
  },
  {
   "cell_type": "code",
   "execution_count": 16,
   "id": "7ea45fe6-30da-464b-930f-965f97f69074",
   "metadata": {},
   "outputs": [
    {
     "name": "stdout",
     "output_type": "stream",
     "text": [
      "True\n"
     ]
    }
   ],
   "source": [
    "print((lambda x: x.isnumeric())('111'))"
   ]
  },
  {
   "cell_type": "raw",
   "id": "8e58325c-cefb-4b18-8932-992393acbea3",
   "metadata": {},
   "source": [
    "Sort a list of tuples having fruit names and their quantity. [(\"mango\",99),(\"orange\",80), (\"grapes\", 1000)]\n"
   ]
  },
  {
   "cell_type": "code",
   "execution_count": 20,
   "id": "98648ece-5cd5-45a4-8cee-9e3e853457c5",
   "metadata": {},
   "outputs": [
    {
     "name": "stdout",
     "output_type": "stream",
     "text": [
      "[('orange', 80), ('mango', 99), ('grapes', 1000)]\n"
     ]
    }
   ],
   "source": [
    "nlist = [(\"mango\",99),(\"orange\",80), (\"grapes\", 1000)]\n",
    "nlist.sort(key = lambda x: x[1])\n",
    "print(nlist)"
   ]
  },
  {
   "cell_type": "raw",
   "id": "b07af856-c73f-46bb-ba2e-27abc15d8f7a",
   "metadata": {},
   "source": [
    " Find the squares of numbers from 1 to 10"
   ]
  },
  {
   "cell_type": "code",
   "execution_count": 24,
   "id": "644bf157-16d4-47e1-bcb9-5ecf21b22adb",
   "metadata": {},
   "outputs": [
    {
     "data": {
      "text/plain": [
       "[1, 4, 9, 16, 25, 36, 49, 64, 81, 100]"
      ]
     },
     "execution_count": 24,
     "metadata": {},
     "output_type": "execute_result"
    }
   ],
   "source": [
    "[i*i for i in range(1, 10+1)]"
   ]
  },
  {
   "cell_type": "markdown",
   "id": "11480d0b-c665-4e0d-8326-6118712f20c7",
   "metadata": {},
   "source": [
    "B Find the cube root of numbers from 1 to 10"
   ]
  },
  {
   "cell_type": "code",
   "execution_count": 26,
   "id": "34a83a11-e2d6-43c1-aeef-d89e97fe2113",
   "metadata": {},
   "outputs": [
    {
     "data": {
      "text/plain": [
       "[1, 8, 27, 64, 125, 216, 343, 512, 729, 1000]"
      ]
     },
     "execution_count": 26,
     "metadata": {},
     "output_type": "execute_result"
    }
   ],
   "source": [
    "[i**3 for i in range(1,11)]"
   ]
  },
  {
   "cell_type": "markdown",
   "id": "961423d8-4c78-486f-8283-ea1089654ea7",
   "metadata": {},
   "source": [
    "Check if a given number is even"
   ]
  },
  {
   "cell_type": "code",
   "execution_count": 39,
   "id": "d43f3e4d-c10f-4472-87b9-2f6e8cf2ebc0",
   "metadata": {},
   "outputs": [
    {
     "name": "stdout",
     "output_type": "stream",
     "text": [
      "True\n"
     ]
    }
   ],
   "source": [
    "print((lambda x: x%2==0)(10))\n",
    "\n",
    "      "
   ]
  },
  {
   "cell_type": "markdown",
   "id": "14507e9a-4968-4825-89cd-6fe7da0f2d55",
   "metadata": {},
   "source": [
    "Filter odd numbers from the given list."
   ]
  },
  {
   "cell_type": "code",
   "execution_count": 41,
   "id": "821c0da8-c5f8-47c5-a7e1-2c9de9225f11",
   "metadata": {},
   "outputs": [
    {
     "data": {
      "text/plain": [
       "[1, 3, 5, 7, 9]"
      ]
     },
     "execution_count": 41,
     "metadata": {},
     "output_type": "execute_result"
    }
   ],
   "source": [
    "list_given = [1,2,3,4,5,6,7,8,9,10]\n",
    "\n",
    "list(filter(lambda x:x%2 !=0, list_given))"
   ]
  },
  {
   "cell_type": "raw",
   "id": "2568f369-940c-4b64-acaf-324957692b61",
   "metadata": {},
   "source": [
    "Sort a list of integers into positive and negative integers lists.\n",
    "[1,2,3,4,5,6,-1,-2,-3,-4,-5,0]"
   ]
  },
  {
   "cell_type": "code",
   "execution_count": 45,
   "id": "ff3d580c-db11-4ed7-ad10-e03d306c7e38",
   "metadata": {},
   "outputs": [
    {
     "name": "stdout",
     "output_type": "stream",
     "text": [
      "[1, 2, 3, 4, 5, 6]\n",
      "[-1, -2, -3, -4, -5]\n"
     ]
    }
   ],
   "source": [
    "list1 = [1,2,3,4,5,6,-1,-2,-3,-4,-5,0]\n",
    "print(list(filter(lambda x : x>0 , list1)))\n",
    "print(list(filter(lambda x : x<0 , list1)))"
   ]
  },
  {
   "cell_type": "code",
   "execution_count": null,
   "id": "06022950-ec08-40a8-8de8-6b5cc01dde38",
   "metadata": {},
   "outputs": [],
   "source": []
  }
 ],
 "metadata": {
  "kernelspec": {
   "display_name": "Python 3 (ipykernel)",
   "language": "python",
   "name": "python3"
  },
  "language_info": {
   "codemirror_mode": {
    "name": "ipython",
    "version": 3
   },
   "file_extension": ".py",
   "mimetype": "text/x-python",
   "name": "python",
   "nbconvert_exporter": "python",
   "pygments_lexer": "ipython3",
   "version": "3.10.8"
  }
 },
 "nbformat": 4,
 "nbformat_minor": 5
}
