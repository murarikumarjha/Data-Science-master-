{
 "cells": [
  {
   "cell_type": "markdown",
   "id": "12e949b5-16fe-4fb2-9380-6ea3b850d606",
   "metadata": {},
   "source": [
    "Q1. Create a function which will take a list as an argument and return the product of all the numbers\n",
    "after creating a flat list.\n",
    "Use the below-given list as an argument for your function.\n",
    "list1 = [1,2,3,4, [44,55,66, True], False, (34,56,78,89,34), {1,2,3,3,2,1}, {1:34, \"key2\": [55, 67, 78, 89], 4: (45,\n",
    "22, 61, 34)}, [56, 'data science'], 'Machine Learning']\n",
    "Note: you must extract numeric keys and values of the dictionary also."
   ]
  },
  {
   "cell_type": "code",
   "execution_count": 4,
   "id": "3e57efbd-80de-4e10-81e7-a2d1b60dc3f0",
   "metadata": {},
   "outputs": [
    {
     "name": "stdout",
     "output_type": "stream",
     "text": [
      "[1, 2, 3, 4, 44, 55, 66, 34, 56, 78, 89, 34, 1, 2, 3, 1, 34, 55, 67, 78, 89, 4, 45, 22, 61, 34, 56]\n"
     ]
    },
    {
     "ename": "NameError",
     "evalue": "name 'get_flat_list' is not defined",
     "output_type": "error",
     "traceback": [
      "\u001b[0;31m---------------------------------------------------------------------------\u001b[0m",
      "\u001b[0;31mNameError\u001b[0m                                 Traceback (most recent call last)",
      "Cell \u001b[0;32mIn[4], line 28\u001b[0m\n\u001b[1;32m     25\u001b[0m list1 \u001b[38;5;241m=\u001b[39m [\u001b[38;5;241m1\u001b[39m,\u001b[38;5;241m2\u001b[39m,\u001b[38;5;241m3\u001b[39m,\u001b[38;5;241m4\u001b[39m, [\u001b[38;5;241m44\u001b[39m,\u001b[38;5;241m55\u001b[39m,\u001b[38;5;241m66\u001b[39m, \u001b[38;5;28;01mTrue\u001b[39;00m], \u001b[38;5;28;01mFalse\u001b[39;00m, (\u001b[38;5;241m34\u001b[39m,\u001b[38;5;241m56\u001b[39m,\u001b[38;5;241m78\u001b[39m,\u001b[38;5;241m89\u001b[39m,\u001b[38;5;241m34\u001b[39m), {\u001b[38;5;241m1\u001b[39m,\u001b[38;5;241m2\u001b[39m,\u001b[38;5;241m3\u001b[39m,\u001b[38;5;241m3\u001b[39m,\u001b[38;5;241m2\u001b[39m,\u001b[38;5;241m1\u001b[39m}, {\u001b[38;5;241m1\u001b[39m:\u001b[38;5;241m34\u001b[39m, \u001b[38;5;124m\"\u001b[39m\u001b[38;5;124mkey2\u001b[39m\u001b[38;5;124m\"\u001b[39m: [\u001b[38;5;241m55\u001b[39m, \u001b[38;5;241m67\u001b[39m, \u001b[38;5;241m78\u001b[39m, \u001b[38;5;241m89\u001b[39m], \u001b[38;5;241m4\u001b[39m: (\u001b[38;5;241m45\u001b[39m,\n\u001b[1;32m     26\u001b[0m \u001b[38;5;241m22\u001b[39m, \u001b[38;5;241m61\u001b[39m, \u001b[38;5;241m34\u001b[39m)}, [\u001b[38;5;241m56\u001b[39m, \u001b[38;5;124m'\u001b[39m\u001b[38;5;124mdata science\u001b[39m\u001b[38;5;124m'\u001b[39m], \u001b[38;5;124m'\u001b[39m\u001b[38;5;124mMachine Learning\u001b[39m\u001b[38;5;124m'\u001b[39m]\n\u001b[1;32m     27\u001b[0m \u001b[38;5;66;03m# print(get_flat_list_product(list1))\u001b[39;00m\n\u001b[0;32m---> 28\u001b[0m prd \u001b[38;5;241m=\u001b[39m \u001b[43mget_flat_list_product\u001b[49m\u001b[43m(\u001b[49m\u001b[43mlist1\u001b[49m\u001b[43m)\u001b[49m\n",
      "Cell \u001b[0;32mIn[4], line 22\u001b[0m, in \u001b[0;36mget_flat_list_product\u001b[0;34m(list1)\u001b[0m\n\u001b[1;32m     20\u001b[0m         flat_list\u001b[38;5;241m.\u001b[39mappend(i)\n\u001b[1;32m     21\u001b[0m \u001b[38;5;28mprint\u001b[39m(flat_list)\n\u001b[0;32m---> 22\u001b[0m flat_list \u001b[38;5;241m=\u001b[39m \u001b[43mget_flat_list\u001b[49m(list1)\n\u001b[1;32m     23\u001b[0m \u001b[38;5;28;01mreturn\u001b[39;00m reduce(\u001b[38;5;28;01mlambda\u001b[39;00m x, y: x \u001b[38;5;241m*\u001b[39m y, flat_list)\n",
      "\u001b[0;31mNameError\u001b[0m: name 'get_flat_list' is not defined"
     ]
    }
   ],
   "source": [
    "def get_flat_list_product(list1):\n",
    "    flat_list = []\n",
    "    for i in list1:\n",
    "        if type(i) in [list, set, tuple]:\n",
    "            for j in i:\n",
    "                if type(j) in [int, float]:\n",
    "                    flat_list.append(j)\n",
    "        elif type(i) == dict:\n",
    "            for j in i:\n",
    "                if type(j) in [int, float]:\n",
    "                    flat_list.append(j)\n",
    "                values = i[j]\n",
    "                if type(values) in [int, float]:\n",
    "                    flat_list.append(values)\n",
    "                elif type(values) in [list, set, tuple]:\n",
    "                    for k in values:\n",
    "                        if type(k) in [int, float]:\n",
    "                            flat_list.append(k)\n",
    "        elif type(i) in [int, float]:\n",
    "            flat_list.append(i)\n",
    "    print(flat_list)\n",
    "    flat_list = get_flat_list(list1)\n",
    "    return reduce(lambda x, y: x * y, flat_list)\n",
    "\n",
    "list1 = [1,2,3,4, [44,55,66, True], False, (34,56,78,89,34), {1,2,3,3,2,1}, {1:34, \"key2\": [55, 67, 78, 89], 4: (45,\n",
    "22, 61, 34)}, [56, 'data science'], 'Machine Learning']\n",
    "# print(get_flat_list_product(list1))\n",
    "prd = get_flat_list_product(list1)"
   ]
  },
  {
   "cell_type": "code",
   "execution_count": null,
   "id": "641b0882-87bb-4043-bdb9-fc6d44d4391d",
   "metadata": {},
   "outputs": [],
   "source": []
  },
  {
   "cell_type": "code",
   "execution_count": 16,
   "id": "1157e11f-2740-4f50-b90d-1abf90b35e57",
   "metadata": {},
   "outputs": [
    {
     "name": "stdout",
     "output_type": "stream",
     "text": [
      "I$wznt$to$yexome$z$Dztz$Sxientist.\n"
     ]
    }
   ],
   "source": [
    "# Create an input field\n",
    "Input = \"I want to become a Data Scientist.\"\n",
    "Input = Input.lower()\n",
    "print(input_sentence)\n",
    "\n",
    "# Create a dictionary to store keys\n",
    "# and values\n",
    "dict = {\"a\": \"z\", \"b\": \"y\",\n",
    "\t\t\"c\": \"x\" , \" \" : \"$\"}\n",
    "\n",
    "# Reverse the string\n",
    "num = input\n",
    "\n",
    "\n",
    "# Replace vowels using loops\n",
    "for i in dict:\n",
    "\tnum = num.replace(i, dict[i])\n",
    "\n",
    "# f- strings which improves readability\n",
    "# print(f\"{num}aca\")\n",
    "print(num)\n"
   ]
  },
  {
   "cell_type": "code",
   "execution_count": 19,
   "id": "ca54365a-f0fd-4d07-b8ad-582882f7ea2a",
   "metadata": {},
   "outputs": [
    {
     "name": "stdout",
     "output_type": "stream",
     "text": [
      "i want to become a data scientist.\n"
     ]
    }
   ],
   "source": [
    "Input = \"I want to become a Data Scientist.\"\n",
    "input_sentence = Input.lower()\n",
    "print(input_sentence)"
   ]
  },
  {
   "cell_type": "code",
   "execution_count": null,
   "id": "26e05bb8-e7a8-4a63-b1a6-dcfc960cda30",
   "metadata": {},
   "outputs": [],
   "source": []
  }
 ],
 "metadata": {
  "kernelspec": {
   "display_name": "Python 3 (ipykernel)",
   "language": "python",
   "name": "python3"
  },
  "language_info": {
   "codemirror_mode": {
    "name": "ipython",
    "version": 3
   },
   "file_extension": ".py",
   "mimetype": "text/x-python",
   "name": "python",
   "nbconvert_exporter": "python",
   "pygments_lexer": "ipython3",
   "version": "3.10.8"
  }
 },
 "nbformat": 4,
 "nbformat_minor": 5
}
