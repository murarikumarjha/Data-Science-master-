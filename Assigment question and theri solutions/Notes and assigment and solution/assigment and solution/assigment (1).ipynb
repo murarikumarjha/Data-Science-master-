{ # 12 feb lecture
 "cells": [
  {
   "cell_type": "markdown",
   "id": "21c7b165-47c5-4c56-8dd5-274a7bb34dd4",
   "metadata": {},
   "source": [
    "Q1. what is an Exception in python? write the difference between Exception  and syntax errors."
   ]
  },
  {
   "cell_type": "markdown",
   "id": "1f41dddc-30e1-4b07-9b15-dc634027855b",
   "metadata": {},
   "source": [
    "ans : - The difference between exception and syntax errors in Python is that:\n",
    "1.    Syntax errors are errors that occur when the proper syntax of the language is\n",
    "not followed, such as\n",
    "a misspelled keyword, a missing colon, \n",
    "        or an incorrect indentation\n",
    "2.  Syntax errors are detected during parsing, which means that Python cannot read or\n",
    "understand the code. Syntax \n",
    "    errors prevent the program from running at all\n",
    "3. Exceptions are errors that occur during execution, which means that Python can\n",
    "read and understand the code, but something goes wrong when it tries to perform it,\n",
    "such as dividing by zero, accessing a non-existent key in a dictionary, or importing\n",
    "a module that does not exist12. Exceptions are not necessarily fatal, as they can be \n",
    "handled by the program using try/except/finally statements23. Exceptions interrupt the\n",
    "normal flow of the program andmay cause it to terminate if not handled properly2."
   ]
  },
  {
   "cell_type": "markdown",
   "id": "74369f07-222e-4218-83c7-5580057b6ea6",
   "metadata": {},
   "source": [
    "Q2. what happends when an exception is not handled ? explain  with example ."
   ]
  },
  {
   "cell_type": "markdown",
   "id": "f08d5688-d266-45cf-a956-0f8d3eefea1e",
   "metadata": {},
   "source": [
    "ans :  When an exception is not handled in Python, it causes the current process to stop and passes it to the calling process until it is handled³. If not handled, the program will crash and produce some information called Traceback⁴. Traceback shows the details of the exception, such as the type of the exception, the message associated with the exception, and the line number where the exception occurred⁴.\n",
    "\n",
    "For example, consider this code that tries to divide a number by zero:\n",
    "\n",
    "```python\n",
    "def divide(x, y):\n",
    "    return x / y\n",
    "\n",
    "num1 = 10\n",
    "num2 = 0\n",
    "result = divide(num1, num2)\n",
    "print(result)\n",
    "```\n",
    "\n",
    "This code will raise a ZeroDivisionError exception, which is not handled by the divide() function or the main program. Therefore, the program will terminate and display this Traceback:\n",
    "\n",
    "```python\n",
    "Traceback (most recent call last):\n",
    "  File \"example.py\", line 7, in <module>\n",
    "    result = divide(num1, num2)\n",
    "  File \"example.py\", line 2, in divide\n",
    "    return x / y\n",
    "ZeroDivisionError: division by zero\n",
    "```\n",
    "\n",
    "You can see that the Traceback shows the type of the exception (ZeroDivisionError), the message associated with the exception (division by zero), and the line number where the exception occurred (line 2 in divide() function and line 7 in main program).\n",
    "\n",
    "To prevent the program from crashing, you can handle the exception using try/except/finally statements¹²⁴. For example:\n",
    "\n",
    "```python\n",
    "def divide(x, y):\n",
    "    try:\n",
    "        return x / y\n",
    "    except ZeroDivisionError:\n",
    "        print(\"Cannot divide by zero\")\n",
    "        return None\n",
    "\n",
    "num1 = 10\n",
    "num2 = 0\n",
    "result = divide(num1, num2)\n",
    "print(result)\n",
    "```\n",
    "\n",
    "This code will catch and handle the ZeroDivisionError exception in the except clause and print a message instead of crashing. The finally clause can be used to execute some code regardless of whether an exception occurs or not¹²⁴. For example:\n",
    "\n",
    "```python\n",
    "def divide(x, y):\n",
    "    try:\n",
    "        return x / y\n",
    "    except ZeroDivisionError:\n",
    "        print(\"Cannot divide by zero\")\n",
    "        return None\n",
    "    finally:\n",
    "        print(\"This is executed always\")\n",
    "\n",
    "num1 = 10\n",
    "num2 = 0\n",
    "result = divide(num1, num2)\n",
    "print(result)\n",
    "```\n",
    "\n",
    "This code will print \"This is executed always\" at the end of the function, even if an exception occurs or not.\n"
   ]
  },
  {
   "cell_type": "markdown",
   "id": "c1144fbd-35cd-4a03-bdd3-a30ca0e9044c",
   "metadata": {},
   "source": [
    "Q3. which python statement are used to catch and handle exception ? Explain with an example ."
   ]
  },
  {
   "cell_type": "markdown",
   "id": "0fa99b07-f5c7-40f0-9de3-610c1a740650",
   "metadata": {},
   "source": [
    "The try and except statements are used to catch and handle exceptions in Python.\n",
    "An exception is an error that occurs during the execution of a program. The try\n",
    "block contains the code that may cause an exception, and the except block contains\n",
    "the code that handles the exception if it occurs. For example"
   ]
  },
  {
   "cell_type": "code",
   "execution_count": 3,
   "id": "27f39f2a-0e46-4c7a-ac6d-a97817cf0045",
   "metadata": {},
   "outputs": [
    {
     "name": "stdout",
     "output_type": "stream",
     "text": [
      "Error: Cannot divide by zero\n"
     ]
    }
   ],
   "source": [
    "try:\n",
    "  # code that may cause exception\n",
    "  x = 10 / 0\n",
    "except:\n",
    "  # code to run when exception occurs\n",
    "  print(\"Error: Cannot divide by zero\")\n"
   ]
  },
  {
   "cell_type": "markdown",
   "id": "71fba9d9-4612-492b-b700-03245e92e120",
   "metadata": {},
   "source": [
    "In this example, the try block will generate a ZeroDivisionError \n",
    "exception, because a number is divided by zero. The except block will\n",
    "catch the exception and print a message. If no exception occurs, the except\n",
    "block is skipped."
   ]
  },
  {
   "cell_type": "markdown",
   "id": "00e1c4e0-634e-4146-8dc2-64188082b183",
   "metadata": {},
   "source": [
    "Q4. Explains with an example :\n",
    "    a. try and else\n",
    "    b. finally \n",
    "    c. raise"
   ]
  },
  {
   "cell_type": "markdown",
   "id": "be45ab85-ceff-4781-bbfc-7b619613fd55",
   "metadata": {},
   "source": [
    "Let’s first understand how the try and except works –\n",
    "\n",
    "First try clause is executed i.e. the code between try and except clause.\n",
    "If there is no exception, then only try clause will run, except clause will not get \n",
    "executed.\n",
    "If any exception occurs, the try clause will be skipped and except clause will run.\n",
    "If any exception occurs, but the except clause within the code doesn’t handle it, it is \n",
    "passed on to the outer try statements.\n",
    "If the exception is left unhandled, then the execution stops.\n",
    "A try statement can have more than one except clause.\n",
    "Example: Let us try to take user integer input and throw the exception in except block."
   ]
  },
  {
   "cell_type": "code",
   "execution_count": 4,
   "id": "b7a72e4b-1af2-4606-bcdf-f1b5d03c4f13",
   "metadata": {},
   "outputs": [
    {
     "name": "stdout",
     "output_type": "stream",
     "text": [
      "Cannot divide by zero\n"
     ]
    }
   ],
   "source": [
    "# Example 1: Using try and except to handle a ZeroDivisionError\n",
    "def divide(x, y):\n",
    "    try:\n",
    "        return x / y\n",
    "    except ZeroDivisionError:\n",
    "        print(\"Cannot divide by zero\")\n",
    "\n",
    "result = divide(10, 0) # This will print \"Cannot divide by zero\" and return None\n"
   ]
  },
  {
   "cell_type": "markdown",
   "id": "f324548c-8da6-4948-b81b-e25a28aa3321",
   "metadata": {},
   "source": [
    "Else Clause\n",
    "The code enters the else block only if the try clause does not raise an exception.\n",
    "\n",
    "Example: Else block will execute only when no exception occurs."
   ]
  },
  {
   "cell_type": "code",
   "execution_count": 5,
   "id": "07765790-47ad-47df-b3d1-b2cb8bbaec9a",
   "metadata": {},
   "outputs": [
    {
     "name": "stdout",
     "output_type": "stream",
     "text": [
      "Yeah ! Your answer is : 1\n",
      "Sorry ! You are dividing by zero \n"
     ]
    }
   ],
   "source": [
    "def divide(x, y):\n",
    "    try:\n",
    "        # Floor Division : Gives only Fractional\n",
    "        # Part as Answer\n",
    "        result = x // y\n",
    "    except ZeroDivisionError:\n",
    "        print(\"Sorry ! You are dividing by zero \")\n",
    "    else:\n",
    "        print(\"Yeah ! Your answer is :\", result)\n",
    "   \n",
    "# Look at parameters and note the working of Program\n",
    "divide(3, 2)\n",
    "divide(3, 0)"
   ]
  },
  {
   "cell_type": "markdown",
   "id": "7468acf7-0572-40c6-9c55-a21005a256e8",
   "metadata": {},
   "source": [
    "Finally Keyword\n",
    "Python provides a keyword finally, which is always executed after try and except\n",
    "blocks. The finally block always executes after normal termination of try block or\n",
    "after try block terminates due to some exception. Even if you return in the except\n",
    "block still the finally block will execute"
   ]
  },
  {
   "cell_type": "code",
   "execution_count": 6,
   "id": "cff58694-8c0d-448e-9c4b-ec90f90af1dc",
   "metadata": {},
   "outputs": [
    {
     "name": "stdout",
     "output_type": "stream",
     "text": [
      "Yeah ! Your answer is : 1\n",
      "This is always executed\n",
      "Sorry ! You are dividing by zero \n",
      "This is always executed\n"
     ]
    }
   ],
   "source": [
    "# Python code to illustrate\n",
    "# working of try() \n",
    "def divide(x, y):\n",
    "    try:\n",
    "        # Floor Division : Gives only Fractional\n",
    "        # Part as Answer\n",
    "        result = x // y\n",
    "    except ZeroDivisionError:\n",
    "        print(\"Sorry ! You are dividing by zero \")\n",
    "    else:\n",
    "        print(\"Yeah ! Your answer is :\", result)\n",
    "    finally: \n",
    "        # this block is always executed  \n",
    "        # regardless of exception generation. \n",
    "        print('This is always executed')  \n",
    " \n",
    "# Look at parameters and note the working of Program\n",
    "divide(3, 2)\n",
    "divide(3, 0)"
   ]
  },
  {
   "cell_type": "markdown",
   "id": "45fa1db7-a5d2-4765-9c9e-18c9259a4756",
   "metadata": {},
   "source": [
    "Q5. what are custom Exception in python ? why do we need Custom Exception ? Explain with an example ."
   ]
  },
  {
   "cell_type": "markdown",
   "id": "6d8750e0-b56d-44f4-bbb1-5af83022aca4",
   "metadata": {},
   "source": [
    "My primary goal is to follow whatever standard other exception classes have, so that (for instance) any extra string I include in the exception is printed out by whatever tool caught the exception.\n",
    "\n",
    "By \"modern Python\" I mean something that will run in Python 2.5 but be 'correct' for the Python 2.6 and Python 3.* way of doing things. And by \"custom\" I mean an Exception object that can include extra data about the cause of the error: a string, maybe also some other arbitrary object relevant to the exception.\n",
    "\n",
    "I was tripped up by the following deprecation warning in Python 2.6.2:"
   ]
  },
  {
   "cell_type": "code",
   "execution_count": 4,
   "id": "e018ab28-66d7-4917-af3d-071f567cf220",
   "metadata": {},
   "outputs": [],
   "source": [
    "class MyError(Exception):\n",
    "    def __init__(self, message, animal):\n",
    "        self.message = message\n",
    "        self.animal = animal\n",
    "    def __str__(self):\n",
    "        return self.message"
   ]
  },
  {
   "cell_type": "markdown",
   "id": "7cdc5b5d-6284-445d-bfd5-9f21a40137a7",
   "metadata": {},
   "source": [
    "Q6. create a custom exception class and use it to handle exception ?"
   ]
  },
  {
   "cell_type": "code",
   "execution_count": 6,
   "id": "d6e57c46-b859-4357-ae24-036c5f5f7186",
   "metadata": {},
   "outputs": [
    {
     "name": "stdin",
     "output_type": "stream",
     "text": [
      "Enter age  123\n"
     ]
    },
    {
     "ename": "TooYoungException",
     "evalue": " please wait some time ",
     "output_type": "error",
     "traceback": [
      "\u001b[0;31m---------------------------------------------------------------------------\u001b[0m",
      "\u001b[0;31mTooYoungException\u001b[0m                         Traceback (most recent call last)",
      "Cell \u001b[0;32mIn[6], line 9\u001b[0m\n\u001b[1;32m      7\u001b[0m age \u001b[38;5;241m=\u001b[39m \u001b[38;5;28mint\u001b[39m(\u001b[38;5;28minput\u001b[39m(\u001b[38;5;124m\"\u001b[39m\u001b[38;5;124mEnter age \u001b[39m\u001b[38;5;124m\"\u001b[39m))\n\u001b[1;32m      8\u001b[0m \u001b[38;5;28;01mif\u001b[39;00m age \u001b[38;5;241m>\u001b[39m\u001b[38;5;241m60\u001b[39m :\n\u001b[0;32m----> 9\u001b[0m     \u001b[38;5;28;01mraise\u001b[39;00m TooYoungException(\u001b[38;5;124m\"\u001b[39m\u001b[38;5;124m please wait some time \u001b[39m\u001b[38;5;124m\"\u001b[39m)\n\u001b[1;32m     10\u001b[0m \u001b[38;5;28;01melif\u001b[39;00m age \u001b[38;5;241m<\u001b[39m\u001b[38;5;241m18\u001b[39m :\n\u001b[1;32m     11\u001b[0m     \u001b[38;5;28;01mraise\u001b[39;00m TooYoungException(\u001b[38;5;124m\"\u001b[39m\u001b[38;5;124myou already done\u001b[39m\u001b[38;5;124m\"\u001b[39m)\n",
      "\u001b[0;31mTooYoungException\u001b[0m:  please wait some time "
     ]
    }
   ],
   "source": [
    "class TooYoungException(Exception):\n",
    "    def __init__(self, msg):\n",
    "        self.msg = msg\n",
    "class TooOldException(Exception):\n",
    "    def __init__(self, msg):\n",
    "        self.msg = msg\n",
    "age = int(input(\"Enter age \"))\n",
    "if age >60 :\n",
    "    raise TooYoungException(\" please wait some time \")\n",
    "elif age <18 :\n",
    "    raise TooYoungException(\"you already done\")\n",
    "else :\n",
    "    print(\"you will get match details\")"
   ]
  },
  {
   "cell_type": "code",
   "execution_count": null,
   "id": "c8988d61-8497-4060-acb9-1f63189ead4b",
   "metadata": {},
   "outputs": [],
   "source": []
  }
 ],
 "metadata": {
  "kernelspec": {
   "display_name": "Python 3 (ipykernel)",
   "language": "python",
   "name": "python3"
  },
  "language_info": {
   "codemirror_mode": {
    "name": "ipython",
    "version": 3
   },
   "file_extension": ".py",
   "mimetype": "text/x-python",
   "name": "python",
   "nbconvert_exporter": "python",
   "pygments_lexer": "ipython3",
   "version": "3.10.8"
  }
 },
 "nbformat": 4,
 "nbformat_minor": 5
}
