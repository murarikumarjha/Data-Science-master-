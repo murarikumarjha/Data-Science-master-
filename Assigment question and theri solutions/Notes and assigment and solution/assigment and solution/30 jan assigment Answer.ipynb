{
 "cells": [
  {
   "cell_type": "markdown",
   "id": "ce3cb52f-a5a4-4b61-b01a-ddb24f4a0a80",
   "metadata": {},
   "source": [
    "Q1 ~ write a program accept percentage from the user and display grade according to it  "
   ]
  },
  {
   "cell_type": "code",
   "execution_count": 7,
   "id": "fad621c8-313c-45f3-9253-490ea7b8f948",
   "metadata": {},
   "outputs": [
    {
     "name": "stdin",
     "output_type": "stream",
     "text": [
      "enter your marks percentage :  76\n"
     ]
    },
    {
     "name": "stdout",
     "output_type": "stream",
     "text": [
      "C Grade\n"
     ]
    }
   ],
   "source": [
    "marks = int(input(\"enter your marks percentage : \"))\n",
    "if marks >90:\n",
    "            print(\"A Grade\")\n",
    "elif marks <= 90 and marks >80:\n",
    "            print(\"B Grade\")\n",
    "elif marks <= 80 and marks >60:\n",
    "            print(\"C Grade\")\n",
    "else:\n",
    "            print(\"D Grade\")"
   ]
  },
  {
   "cell_type": "markdown",
   "id": "7e2681fb-eb9a-4533-b5c4-f10b19cd057a",
   "metadata": {},
   "source": [
    "Q2 write a program to accept the cost price of the bike and display road tax paid according to it critiera "
   ]
  },
  {
   "cell_type": "code",
   "execution_count": 11,
   "id": "f2a57212-dc43-4a4a-a3b2-f787968a4cdf",
   "metadata": {},
   "outputs": [
    {
     "name": "stdin",
     "output_type": "stream",
     "text": [
      "enter cost bike:  70000\n"
     ]
    },
    {
     "name": "stdout",
     "output_type": "stream",
     "text": [
      "10% tax\n"
     ]
    }
   ],
   "source": [
    "cost_of_Bike = int(input(\"enter cost bike: \"))\n",
    "if cost_of_Bike > 100000:\n",
    "    print(\"15% tax\")\n",
    "elif cost_of_Bike >50000 or cost_of_Bike>=100000:\n",
    "    print(\"10% tax\")\n",
    "elif cost_of_Bike  >=5000:\n",
    "    print(\"5% tax\")"
   ]
  },
  {
   "cell_type": "markdown",
   "id": "5f962f41-3fd1-4eba-8f17-47a81062a182",
   "metadata": {},
   "source": [
    "Q3 ~ accept any city from the user and display monument related to the city "
   ]
  },
  {
   "cell_type": "code",
   "execution_count": 12,
   "id": "24dddf11-8f77-450c-b185-d9c232d5b999",
   "metadata": {},
   "outputs": [
    {
     "name": "stdin",
     "output_type": "stream",
     "text": [
      "Enter name of city:   Delhi\n"
     ]
    },
    {
     "name": "stdout",
     "output_type": "stream",
     "text": [
      "Red Fort\n"
     ]
    }
   ],
   "source": [
    "city = input(\"Enter name of city:  \")\n",
    "if city == \"Delhi\":\n",
    "    print(\"Red Fort\")\n",
    "elif city == \"Agra\":\n",
    "    print(\"Taj Mahal\")\n",
    "elif city == \"Jaipur\":\n",
    "    print(\"Jal Mahal\")\n"
   ]
  },
  {
   "cell_type": "markdown",
   "id": "9edf2cb3-8e2b-4249-92fb-ede266a95ec8",
   "metadata": {},
   "source": [
    "Q4~ CHECK how many number are divisible by 3 less than and equal to 10 "
   ]
  },
  {
   "cell_type": "code",
   "execution_count": 15,
   "id": "582321a3-e671-4e71-a86b-6a23b00b6866",
   "metadata": {},
   "outputs": [
    {
     "name": "stdout",
     "output_type": "stream",
     "text": [
      "0\n",
      "3\n",
      "6\n",
      "9\n"
     ]
    }
   ],
   "source": [
    "\n",
    "for i in range(11):\n",
    "    if i%3==0:\n",
    "        print(i)"
   ]
  },
  {
   "cell_type": "markdown",
   "id": "3500bda1-c665-4644-95cf-079ff5a69db5",
   "metadata": {},
   "source": [
    "Q5~Reverse a while loop and display number from 10 to 1"
   ]
  },
  {
   "cell_type": "code",
   "execution_count": 18,
   "id": "7ce554b2-472b-4a9a-b788-8701c384df9b",
   "metadata": {},
   "outputs": [
    {
     "name": "stdout",
     "output_type": "stream",
     "text": [
      "10\n",
      "9\n",
      "8\n",
      "7\n",
      "6\n",
      "5\n",
      "4\n",
      "3\n",
      "2\n",
      "1\n"
     ]
    }
   ],
   "source": [
    "i = 10 \n",
    "while i >=1 :\n",
    "    print(i)\n",
    "    i-=1"
   ]
  },
  {
   "cell_type": "markdown",
   "id": "fac91a2f-617f-49a9-96c0-bdd569d459f4",
   "metadata": {},
   "source": [
    "Q6~ use nested loop to print 3 differnt pattern on while loop"
   ]
  },
  {
   "cell_type": "code",
   "execution_count": 1,
   "id": "fe25c43c-9fe5-4e41-aff8-ef67f2394ba1",
   "metadata": {},
   "outputs": [
    {
     "name": "stdin",
     "output_type": "stream",
     "text": [
      "Number 5\n"
     ]
    },
    {
     "name": "stdout",
     "output_type": "stream",
     "text": [
      "12345\n",
      "1234\n",
      "123\n",
      "12\n",
      "1\n",
      "\n"
     ]
    }
   ],
   "source": [
    "\n",
    "n = int(input(\"Number\"))\n",
    "i = 0\n",
    "while i<=n:\n",
    "    j = 1 \n",
    "    while j <= n-i:\n",
    "        print(j,end=\"\")\n",
    "        j = j+1\n",
    "    print()\n",
    "    i = i+1"
   ]
  },
  {
   "cell_type": "code",
   "execution_count": 2,
   "id": "3d3faf07-ca9e-4ea6-913a-491d781b9d34",
   "metadata": {},
   "outputs": [
    {
     "name": "stdin",
     "output_type": "stream",
     "text": [
      "number of rows :  6\n"
     ]
    },
    {
     "name": "stdout",
     "output_type": "stream",
     "text": [
      "* * * * * * \n",
      "* * * * * \n",
      "* * * * \n",
      "* * * \n",
      "* * \n",
      "* \n"
     ]
    }
   ],
   "source": [
    "n = int(input('number of rows : '))\n",
    "\n",
    "i = 1\n",
    "while i <= n :\n",
    "    j = n\n",
    "    while j >= i:\n",
    "        print(\"*\", end = \" \")\n",
    "        j -= 1\n",
    "    print()\n",
    "    i += 1"
   ]
  },
  {
   "cell_type": "code",
   "execution_count": 4,
   "id": "dc1ed6e5-cd92-4ee2-8031-ee3f5b30f030",
   "metadata": {},
   "outputs": [
    {
     "name": "stdin",
     "output_type": "stream",
     "text": [
      "Enter  no rows :  6\n"
     ]
    },
    {
     "name": "stdout",
     "output_type": "stream",
     "text": [
      "* \n",
      "* * \n",
      "* * * \n",
      "* * * * \n",
      "* * * * * \n",
      "* * * * * * \n"
     ]
    }
   ],
   "source": [
    "n=int(input(\"Enter  no rows : \"))\n",
    " \n",
    "i=1;j=0\n",
    "\n",
    "while(i<=n):\n",
    "    while(j<=i-1):\n",
    "        print(\"* \",end=\"\")\n",
    "        j+=1\n",
    "    print(\"\\r\")\n",
    "    j=0;i+=1\n",
    " \n",
    "     "
   ]
  },
  {
   "cell_type": "markdown",
   "id": "ad994e12-5de2-4a8a-aebb-14f2766659b0",
   "metadata": {},
   "source": [
    "Q7~what is while loop and how to use it ?"
   ]
  },
  {
   "cell_type": "markdown",
   "id": "cd44d7de-6012-4e67-be80-019417c23812",
   "metadata": {},
   "source": [
    "Python while Loop\n",
    "Python while loop is used to run a block code until a certain condition is met.\n",
    "\n",
    "The syntax of while loop is:\n",
    "\n",
    "while condition:\n",
    "    # body of while loop\n",
    "Here,\n",
    "\n",
    "A while loop evaluates the condition\n",
    "If the condition evaluates to True, the code inside the while loop is executed.\n",
    "condition is evaluated again.\n",
    "This process continues until the condition is False.\n",
    "When condition evaluates to False, the loop stops."
   ]
  }
 ],
 "metadata": {
  "kernelspec": {
   "display_name": "Python 3 (ipykernel)",
   "language": "python",
   "name": "python3"
  },
  "language_info": {
   "codemirror_mode": {
    "name": "ipython",
    "version": 3
   },
   "file_extension": ".py",
   "mimetype": "text/x-python",
   "name": "python",
   "nbconvert_exporter": "python",
   "pygments_lexer": "ipython3",
   "version": "3.10.8"
  }
 },
 "nbformat": 4,
 "nbformat_minor": 5
}
