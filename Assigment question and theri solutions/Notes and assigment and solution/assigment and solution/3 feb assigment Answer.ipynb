{
 "cells": [
  {
   "cell_type": "markdown",
   "id": "d450314d-4060-4ebc-ae72-e4c76cdf81a0",
   "metadata": {},
   "source": [
    "Q1. Which keyword is used to create a function? Create a function to return a list of odd numbers in the\n",
    "range of 1 to 25."
   ]
  },
  {
   "cell_type": "code",
   "execution_count": 3,
   "id": "6c8f8cc1-d293-4a2d-b4dd-6924ca4da60b",
   "metadata": {},
   "outputs": [],
   "source": [
    "def  odd_num(n):\n",
    "    l1 = []\n",
    "    for i in range(1,25):\n",
    "        if i%2!=0:\n",
    "            l1.append(i)\n",
    "    return l1"
   ]
  },
  {
   "cell_type": "code",
   "execution_count": 4,
   "id": "25d46ca5-b288-4eb9-8bea-58243465e146",
   "metadata": {},
   "outputs": [
    {
     "data": {
      "text/plain": [
       "[1, 3, 5, 7, 9, 11, 13, 15, 17, 19, 21, 23]"
      ]
     },
     "execution_count": 4,
     "metadata": {},
     "output_type": "execute_result"
    }
   ],
   "source": [
    "odd_num(25)"
   ]
  },
  {
   "cell_type": "markdown",
   "id": "23f3c9ab-088a-4f4a-ba9c-ef218dcab381",
   "metadata": {},
   "source": [
    "Q2. Why *args and **kwargs is used in some functions? Create a function each for *args and **kwargs\n",
    "to demonstrate their use."
   ]
  },
  {
   "cell_type": "markdown",
   "id": "593fbef9-d96c-47bf-b8bc-3eb3e9e90831",
   "metadata": {},
   "source": [
    "*args specifies the number of non-keyworded arguments that can\n",
    "be passed and the operations that can be performed on the function in Python \n",
    "whereas **kwargs is a variable number of keyworded arguments that can be passed to \n",
    "a function that can perform dictionary operations."
   ]
  },
  {
   "cell_type": "code",
   "execution_count": 6,
   "id": "cc0202ea-944e-4da8-865e-6736a99261a6",
   "metadata": {},
   "outputs": [],
   "source": [
    "def many_input(*args):\n",
    "    return args"
   ]
  },
  {
   "cell_type": "code",
   "execution_count": 7,
   "id": "cce67e62-b6d6-4d18-97fb-dfcdf974e463",
   "metadata": {},
   "outputs": [
    {
     "data": {
      "text/plain": [
       "('anem', 'apple', 'banana')"
      ]
     },
     "execution_count": 7,
     "metadata": {},
     "output_type": "execute_result"
    }
   ],
   "source": [
    "many_input(\"anem\",\"apple\",\"banana\")"
   ]
  },
  {
   "cell_type": "code",
   "execution_count": 2,
   "id": "f97d5c9e-9b55-403b-a008-a474ff70e203",
   "metadata": {},
   "outputs": [],
   "source": [
    "def many_input(**kwargs):\n",
    "    return kwargs"
   ]
  },
  {
   "cell_type": "code",
   "execution_count": 3,
   "id": "1e69e171-2aeb-4c2a-9505-1a5d5f1b33ac",
   "metadata": {},
   "outputs": [
    {
     "data": {
      "text/plain": [
       "{'name': 'Murari', 'topic': 'fuction', 'marks': 50}"
      ]
     },
     "execution_count": 3,
     "metadata": {},
     "output_type": "execute_result"
    }
   ],
   "source": [
    "many_input(name=\"Murari\",topic=\"fuction\",marks=50)\n",
    "# return in dict"
   ]
  },
  {
   "cell_type": "markdown",
   "id": "c07dd560-782f-4deb-b1f8-307668af8b25",
   "metadata": {},
   "source": [
    "Q3. What is an iterator in python? Name the method used to initialise the iterator object and the method\n",
    "used for iteration. Use these methods to print the first five elements of the given list [2, 4, 6, 8, 10, 12, 14,\n",
    "16, 18, 20]."
   ]
  },
  {
   "cell_type": "code",
   "execution_count": 12,
   "id": "5a94f931-5b53-4d66-8155-723aedc33c97",
   "metadata": {},
   "outputs": [],
   "source": [
    "l = [2, 4, 6, 8, 10, 12, 14, 16, 18, 20]"
   ]
  },
  {
   "cell_type": "code",
   "execution_count": 61,
   "id": "0082b49d-8338-48f4-acdc-3eb7b16548d5",
   "metadata": {},
   "outputs": [
    {
     "name": "stdout",
     "output_type": "stream",
     "text": [
      "2\n",
      "4\n",
      "6\n",
      "8\n",
      "10\n"
     ]
    }
   ],
   "source": [
    "list = [2, 4, 6, 8, 10, 12, 14,16, 18, 20]\n",
    "# initialize the iter object\n",
    "list_iter = iter(list)\n",
    "\n",
    "#us the iter object and print first five element of list\n",
    "for i in range(5):\n",
    "    print(next(list_iter))"
   ]
  },
  {
   "cell_type": "markdown",
   "id": "6595e58a-62c5-4141-845c-acbfdfa61d18",
   "metadata": {},
   "source": [
    "Q4. What is a generator function in python? Why yield keyword is used? Give an example of a generator\n",
    "function."
   ]
  },
  {
   "cell_type": "code",
   "execution_count": null,
   "id": "76d6ab9e-2830-4553-9f46-d6164f72497a",
   "metadata": {},
   "outputs": [],
   "source": [
    "Generator function  :-  A generator-function is defined like a normal function, but \n",
    "whenever it needs to generate a value, it does so with the yield keyword rather than \n",
    "return. If the body of a def contains yield, the function automatically becomes a generator function. "
   ]
  },
  {
   "cell_type": "markdown",
   "id": "4532351c-2287-4414-b50d-8f97121e99b1",
   "metadata": {},
   "source": [
    " YieldThe Yield keyword in Python is similar to a return statement used for returning values or objects in Python\n",
    ". However, there is a slight difference. The yield statement returns a generator object to the one who calls the \n",
    "function which contains yield, instead of simply returning a value. "
   ]
  },
  {
   "cell_type": "code",
   "execution_count": 4,
   "id": "b6b7ad1f-c918-4527-b321-e436bdce6fca",
   "metadata": {},
   "outputs": [],
   "source": [
    "def even(n):\n",
    "    for i in range(n):\n",
    "        if i % 2 ==0:\n",
    "            yield i "
   ]
  },
  {
   "cell_type": "code",
   "execution_count": 8,
   "id": "44400ffa-dcfd-4700-8f9f-2dbf31a882d2",
   "metadata": {},
   "outputs": [
    {
     "name": "stdout",
     "output_type": "stream",
     "text": [
      "0\n",
      "2\n",
      "4\n",
      "6\n"
     ]
    }
   ],
   "source": [
    "even_num = even(7)\n",
    "for i in even(7):\n",
    "    print(next(even_num))"
   ]
  },
  {
   "cell_type": "markdown",
   "id": "d095a386-b840-4a77-8655-6a07d3e1a21a",
   "metadata": {},
   "source": [
    "Q5. Create a generator function for prime numbers less than 1000. Use the next() method to print the\n",
    "first 20 prime numbers."
   ]
  },
  {
   "cell_type": "code",
   "execution_count": 1,
   "id": "453a47c5-8f85-4b8c-818c-be90c952bd7b",
   "metadata": {},
   "outputs": [],
   "source": [
    "import math\n",
    "def num():\n",
    "    print(2)\n",
    "    for num in range(3,1000,2):\n",
    "        \n",
    "        if all(num%i!=0 for i in range(3,int(math.sqrt(num))+1, 2)):\n",
    "            yield num "
   ]
  },
  {
   "cell_type": "code",
   "execution_count": 2,
   "id": "a643e0f1-8d4f-45c8-89b7-fd253a892c97",
   "metadata": {},
   "outputs": [],
   "source": [
    "prime_num = num()"
   ]
  },
  {
   "cell_type": "code",
   "execution_count": 13,
   "id": "94c099f6-1616-4d09-9fe3-0c27f0dde329",
   "metadata": {},
   "outputs": [
    {
     "name": "stdout",
     "output_type": "stream",
     "text": [
      "2\n",
      "3\n",
      "5\n",
      "7\n",
      "11\n",
      "13\n",
      "17\n",
      "19\n",
      "23\n",
      "29\n",
      "31\n",
      "37\n",
      "41\n",
      "43\n",
      "47\n",
      "53\n",
      "59\n",
      "61\n",
      "67\n",
      "71\n",
      "73\n"
     ]
    }
   ],
   "source": [
    "for i in range(20):\n",
    "    print(next(prime_num))"
   ]
  },
  {
   "cell_type": "markdown",
   "id": "88468d50-69e0-4e29-b03a-4c037aaac68f",
   "metadata": {},
   "source": [
    "Write a python program to print the first 10 Fibonacci numbers using a while loop."
   ]
  },
  {
   "cell_type": "code",
   "execution_count": 14,
   "id": "96fb3904-379f-4999-82e2-972bd13c7f72",
   "metadata": {},
   "outputs": [],
   "source": [
    "def test_fib1():\n",
    "    a,b = 0,1\n",
    "    while True:\n",
    "        yield a \n",
    "        a,b = b , a+b"
   ]
  },
  {
   "cell_type": "code",
   "execution_count": 15,
   "id": "f934737c-3f15-4f5b-a8c4-e2a55b593aa9",
   "metadata": {},
   "outputs": [],
   "source": [
    "fib = test_fib1()"
   ]
  },
  {
   "cell_type": "code",
   "execution_count": 16,
   "id": "914eed57-23a9-4782-a53d-457b58ef9cc4",
   "metadata": {},
   "outputs": [
    {
     "name": "stdout",
     "output_type": "stream",
     "text": [
      "0\n",
      "1\n",
      "1\n",
      "2\n",
      "3\n",
      "5\n",
      "8\n",
      "13\n",
      "21\n",
      "34\n"
     ]
    }
   ],
   "source": [
    "for i in range(10):\n",
    "    print(next(fib))"
   ]
  },
  {
   "cell_type": "markdown",
   "id": "5d2713bd-a302-40a9-83a1-71fdde68dbb0",
   "metadata": {},
   "source": [
    "Q7. Write a List Comprehension to iterate through the given string: ‘pwskills’.\n",
    "Expected output: ['p', 'w', 's', 'k', 'i', 'l', 'l', 's']"
   ]
  },
  {
   "cell_type": "code",
   "execution_count": 21,
   "id": "4c11aa50-b1a0-4e44-9880-166cd907af5a",
   "metadata": {},
   "outputs": [
    {
     "name": "stdout",
     "output_type": "stream",
     "text": [
      "['p', 'w', 's', 'k', 'i', 'l', 'l', 's']\n"
     ]
    }
   ],
   "source": [
    "string_list = [ letter for letter in 'pwskills' ]\n",
    "print( string_list)"
   ]
  },
  {
   "cell_type": "markdown",
   "id": "b517f89d-7588-400b-ad36-f4672d06eef9",
   "metadata": {},
   "source": [
    "Q8. Write a python program to check whether a given number is Palindrome or not using a while loop."
   ]
  },
  {
   "cell_type": "code",
   "execution_count": 22,
   "id": "07389bf7-474d-4b91-8136-a1a209bdc81e",
   "metadata": {},
   "outputs": [
    {
     "name": "stdin",
     "output_type": "stream",
     "text": [
      "Enter number: 676\n"
     ]
    },
    {
     "name": "stdout",
     "output_type": "stream",
     "text": [
      "The number is a palindrome!\n"
     ]
    }
   ],
   "source": [
    "n=int(input(\"Enter number:\"))\n",
    "temp=n\n",
    "rev=0\n",
    "while(n>0):\n",
    "    dig=n%10\n",
    "    rev=rev*10+dig\n",
    "    n=n//10\n",
    "if(temp==rev):\n",
    "    print(\"The number is a palindrome!\")\n",
    "else:\n",
    "    print(\"The number isn't a palindrome!\")"
   ]
  },
  {
   "cell_type": "code",
   "execution_count": null,
   "id": "849c0d46-9012-4131-a6ce-00dcdc9cd594",
   "metadata": {},
   "outputs": [],
   "source": []
  },
  {
   "cell_type": "markdown",
   "id": "ef2a7318-e417-4bc6-953d-58166b57504d",
   "metadata": {},
   "source": [
    "Q9. Write a code to print odd numbers from 1 to 100 using list comprehension."
   ]
  },
  {
   "cell_type": "code",
   "execution_count": 31,
   "id": "6513d12f-0f45-4d6e-9729-b930814a9276",
   "metadata": {},
   "outputs": [],
   "source": [
    "l= [i for  i in range(100)  if i%2!=0]"
   ]
  },
  {
   "cell_type": "code",
   "execution_count": 32,
   "id": "71d4cfce-8a1b-4896-bd17-45dccaf14d74",
   "metadata": {},
   "outputs": [
    {
     "name": "stdout",
     "output_type": "stream",
     "text": [
      "[1, 3, 5, 7, 9, 11, 13, 15, 17, 19, 21, 23, 25, 27, 29, 31, 33, 35, 37, 39, 41, 43, 45, 47, 49, 51, 53, 55, 57, 59, 61, 63, 65, 67, 69, 71, 73, 75, 77, 79, 81, 83, 85, 87, 89, 91, 93, 95, 97, 99]\n"
     ]
    }
   ],
   "source": [
    "print(l)"
   ]
  },
  {
   "cell_type": "code",
   "execution_count": null,
   "id": "2aedcc8a-1e0f-4192-b682-daae730e2ba5",
   "metadata": {},
   "outputs": [],
   "source": []
  }
 ],
 "metadata": {
  "kernelspec": {
   "display_name": "Python 3 (ipykernel)",
   "language": "python",
   "name": "python3"
  },
  "language_info": {
   "codemirror_mode": {
    "name": "ipython",
    "version": 3
   },
   "file_extension": ".py",
   "mimetype": "text/x-python",
   "name": "python",
   "nbconvert_exporter": "python",
   "pygments_lexer": "ipython3",
   "version": "3.10.8"
  }
 },
 "nbformat": 4,
 "nbformat_minor": 5
}
