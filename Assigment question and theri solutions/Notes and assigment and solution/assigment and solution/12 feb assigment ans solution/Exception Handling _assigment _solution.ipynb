{
 "cells": [
  {
   "cell_type": "code",
   "execution_count": 1,
   "id": "c6866c99-8ea6-4d3d-a819-17d2330f7288",
   "metadata": {},
   "outputs": [],
   "source": [
    "# 12 feb assigment"
   ]
  },
  {
   "cell_type": "markdown",
   "id": "cc0edc87-ba6f-4148-8d80-d57d2aeb7a43",
   "metadata": {},
   "source": [
    "Q1. what is an Exception in python ? what is differecne between Exception and syntax error ?"
   ]
  },
  {
   "cell_type": "markdown",
   "id": "f7a51c5d-e998-4323-adb5-4b0d791a360e",
   "metadata": {},
   "source": [
    "An exception is an event, which occurs during the execution of a program that disrupts the normal flow of the program's instructions. In general, when a Python script encounters a situation that it cannot cope with, it raises an exception. \n",
    "\n",
    "Exceptions: Exceptions are raised when the program is syntactically correct, but the code results in an error. This error does not stop the execution of the program, however, it changes the normal flow of the program.\n",
    "Error in Python can be of two types i.e. Syntax errors and Exceptions. Errors are problems in a program due to which the program will stop the execution. On the other hand, exceptions are raised when some internal events occur which change the normal flow of the program. "
   ]
  },
  {
   "cell_type": "code",
   "execution_count": 7,
   "id": "1389aec7-5cd3-4a0d-a2a5-f1a5142f63af",
   "metadata": {},
   "outputs": [],
   "source": [
    "import logging \n",
    "logging.basicConfig(filename = \"assigmnet_12.log\",level = logging.INFO) "
   ]
  },
  {
   "cell_type": "code",
   "execution_count": 7,
   "id": "2f199052-d726-4692-9de0-c6c566506a59",
   "metadata": {},
   "outputs": [],
   "source": [
    "# initialize the amount variable\n",
    "marks = 10000\n",
    "\n",
    "# perform division with 0\n",
    "try :\n",
    "    a = marks / 0\n",
    "    print(a)\n",
    "except ZeroDivisionError as e :\n",
    "    logging.error(\"the erroe is {}\".format(e))\n"
   ]
  },
  {
   "cell_type": "markdown",
   "id": "bce792a0-719d-40d2-b5c4-ae44e2970f6e",
   "metadata": {},
   "source": [
    "Q2. what happen when an exception is not handled ? explain with an example ?"
   ]
  },
  {
   "cell_type": "markdown",
   "id": "8ca61ab5-682d-4ab6-8b4a-c62785b3e1b2",
   "metadata": {},
   "source": [
    "When an exception occurred, if you don’t handle it, the program terminates abruptly and the code past the line that caused the exception will not get executed. "
   ]
  },
  {
   "cell_type": "code",
   "execution_count": 3,
   "id": "b21a2c63-5f77-4a77-9e4a-85912514afef",
   "metadata": {},
   "outputs": [
    {
     "ename": "ZeroDivisionError",
     "evalue": "division by zero",
     "output_type": "error",
     "traceback": [
      "\u001b[0;31m---------------------------------------------------------------------------\u001b[0m",
      "\u001b[0;31mZeroDivisionError\u001b[0m                         Traceback (most recent call last)",
      "Cell \u001b[0;32mIn[3], line 7\u001b[0m\n\u001b[1;32m      5\u001b[0m num1 \u001b[38;5;241m=\u001b[39m \u001b[38;5;241m10\u001b[39m\n\u001b[1;32m      6\u001b[0m num2 \u001b[38;5;241m=\u001b[39m \u001b[38;5;241m0\u001b[39m\n\u001b[0;32m----> 7\u001b[0m result \u001b[38;5;241m=\u001b[39m \u001b[43mdivide\u001b[49m\u001b[43m(\u001b[49m\u001b[43mnum1\u001b[49m\u001b[43m,\u001b[49m\u001b[43m \u001b[49m\u001b[43mnum2\u001b[49m\u001b[43m)\u001b[49m\n\u001b[1;32m      8\u001b[0m \u001b[38;5;28mprint\u001b[39m(result)\n\u001b[1;32m      9\u001b[0m \u001b[38;5;66;03m# this exception i have handled earliar\u001b[39;00m\n",
      "Cell \u001b[0;32mIn[3], line 3\u001b[0m, in \u001b[0;36mdivide\u001b[0;34m(x, y)\u001b[0m\n\u001b[1;32m      2\u001b[0m \u001b[38;5;28;01mdef\u001b[39;00m \u001b[38;5;21mdivide\u001b[39m(x, y):\n\u001b[0;32m----> 3\u001b[0m     \u001b[38;5;28;01mreturn\u001b[39;00m \u001b[43mx\u001b[49m\u001b[43m \u001b[49m\u001b[38;5;241;43m/\u001b[39;49m\u001b[43m \u001b[49m\u001b[43my\u001b[49m\n",
      "\u001b[0;31mZeroDivisionError\u001b[0m: division by zero"
     ]
    }
   ],
   "source": [
    "#example \n",
    "def divide(x, y):\n",
    "    return x / y\n",
    "\n",
    "num1 = 10\n",
    "num2 = 0\n",
    "result = divide(num1, num2)\n",
    "print(result)\n",
    "# this exception i have handled earliar"
   ]
  },
  {
   "cell_type": "markdown",
   "id": "e0dafe8f-f0d8-4f3c-b20f-afa6ef397f7b",
   "metadata": {},
   "source": [
    "Q3. Which Python statement are used to catch and handle Exception ? Explain with example?"
   ]
  },
  {
   "cell_type": "markdown",
   "id": "ce6d6e0b-c044-44ae-a7db-42387b298047",
   "metadata": {},
   "source": [
    "The try and except statements are used to catch and handle exceptions in Python. An exception is an error that occurs during the execution of a program. The try block contains the code that may cause an exception, and the except block contains the code that handles the exception if it occurs. For example"
   ]
  },
  {
   "cell_type": "code",
   "execution_count": 9,
   "id": "599ad533-7b2d-490d-8b87-e75318b95b5b",
   "metadata": {},
   "outputs": [],
   "source": [
    "# example\n",
    "try:\n",
    "    import falu\n",
    "except ImportError  as e :\n",
    "    logging.error(\"no falu name module found {}\".format(e))"
   ]
  },
  {
   "cell_type": "markdown",
   "id": "fe93d959-9e5f-4443-bfdc-bb570131d87e",
   "metadata": {},
   "source": [
    "Q4. Explain with example ?"
   ]
  },
  {
   "cell_type": "markdown",
   "id": "f82f4ba6-c307-420b-b9c5-f91e666450f5",
   "metadata": {},
   "source": [
    "1. try and else"
   ]
  },
  {
   "cell_type": "code",
   "execution_count": 17,
   "id": "ccd3cd3a-b8ce-4f78-9ef7-66bf12250e57",
   "metadata": {},
   "outputs": [
    {
     "name": "stdin",
     "output_type": "stream",
     "text": [
      "Enter your name : djfujdf\n"
     ]
    }
   ],
   "source": [
    "try :\n",
    "    a = int(input(\"Enter your name :\"))\n",
    "except ValueError as e:\n",
    "    logging.error(\"error is {}\".format(e))"
   ]
  },
  {
   "cell_type": "markdown",
   "id": "49948377-482c-445f-aede-0db53186e86d",
   "metadata": {},
   "source": [
    "2. finally"
   ]
  },
  {
   "cell_type": "code",
   "execution_count": 2,
   "id": "89e8c28b-b27d-498f-9012-9f2f7b4e8295",
   "metadata": {},
   "outputs": [
    {
     "name": "stdin",
     "output_type": "stream",
     "text": [
      "Enter your name : 60\n"
     ]
    },
    {
     "name": "stdout",
     "output_type": "stream",
     "text": [
      "all the error is stored in log file ,  as sudhanshu sir has said in class \n",
      " please give full marks this time \n",
      " if you are reading it\n"
     ]
    }
   ],
   "source": [
    "try :\n",
    "    a = int(input(\"Enter your name :\"))\n",
    "except ValueError as e:\n",
    "    logging.error(\"error is {}\".format(e))\n",
    "finally :\n",
    "    print(\"all the error is stored in log file ,  as sudhanshu sir has said in class \\n please give full marks this time \\n if you are reading it\")"
   ]
  },
  {
   "cell_type": "markdown",
   "id": "be739827-e560-4ed9-b964-fb44cb42b889",
   "metadata": {},
   "source": [
    "3. raise"
   ]
  },
  {
   "cell_type": "code",
   "execution_count": 4,
   "id": "e1416f78-d80f-424d-a0de-5dcb7ce04f55",
   "metadata": {},
   "outputs": [
    {
     "name": "stdin",
     "output_type": "stream",
     "text": [
      "Enter age  25\n"
     ]
    },
    {
     "name": "stdout",
     "output_type": "stream",
     "text": [
      "you will get match details\n"
     ]
    }
   ],
   "source": [
    "class TooYoungException(Exception):\n",
    "    def __init__(self, msg):\n",
    "        self.msg = msg\n",
    "class TooOldException(Exception):\n",
    "    def __init__(self, msg):\n",
    "        self.msg = msg\n",
    "age = int(input(\"Enter age \"))\n",
    "if age >60 :\n",
    "    raise TooYoungException(\" please wait some time \")\n",
    "elif age <18 :\n",
    "    raise TooYoungException(\"you already done\")\n",
    "else :\n",
    "    print(\"you will get match details\")"
   ]
  },
  {
   "cell_type": "code",
   "execution_count": null,
   "id": "11e6142e-1bef-41d9-be2b-420f003a242f",
   "metadata": {},
   "outputs": [],
   "source": [
    "Q5. What are custom Exception in python ? Why do we need custom Exception in python ?"
   ]
  },
  {
   "cell_type": "markdown",
   "id": "cbae6983-40d6-44aa-8b52-3a23efd2f9d0",
   "metadata": {},
   "source": [
    "In Python, we can define custom exceptions by creating a new class that is derived from the built-in Exception class.\n",
    "\n",
    "Here's the syntax to define custom exceptions,"
   ]
  },
  {
   "cell_type": "code",
   "execution_count": 2,
   "id": "a823c467-6d25-40f6-82d3-b59ae2fe58cc",
   "metadata": {},
   "outputs": [
    {
     "name": "stdin",
     "output_type": "stream",
     "text": [
      "Enter a number:  17\n"
     ]
    },
    {
     "name": "stdout",
     "output_type": "stream",
     "text": [
      "Exception occurred: Invalid Age\n"
     ]
    }
   ],
   "source": [
    "# define Python user-defined exceptions\n",
    "class InvalidAgeException(Exception):\n",
    "    \"Raised when the input value is less than 18\"\n",
    "    pass\n",
    "\n",
    "# you need to guess this number\n",
    "number = 18\n",
    "\n",
    "try:\n",
    "    input_num = int(input(\"Enter a number: \"))\n",
    "    if input_num < number:\n",
    "        raise InvalidAgeException\n",
    "    else:\n",
    "        print(\"Eligible to Vote\")\n",
    "        \n",
    "except InvalidAgeException:\n",
    "    print(\"Exception occurred: Invalid Age\")"
   ]
  },
  {
   "cell_type": "markdown",
   "id": "8645c599-3ad2-4860-b83d-48f9e445b2e4",
   "metadata": {},
   "source": [
    "Q6. CREATE  a custom exception class. use this class to handle excepion?"
   ]
  },
  {
   "cell_type": "code",
   "execution_count": 4,
   "id": "5adbafa8-ea70-4a8f-af45-da09d61e966c",
   "metadata": {},
   "outputs": [],
   "source": [
    "\n",
    "class validateage(Exception):\n",
    "    \n",
    "    def __init__(self , msg) : \n",
    "        self.msg = msg"
   ]
  },
  {
   "cell_type": "code",
   "execution_count": 5,
   "id": "8d491121-9fa7-48ba-b7e6-f3c28dde2c8b",
   "metadata": {},
   "outputs": [],
   "source": [
    "def validaetage(age) : \n",
    "    if age < 0 :\n",
    "        raise validateage(\"entered age is negative \" )\n",
    "    elif age > 200 : \n",
    "        raise validateage(\"enterd age is very very high \" )\n",
    "    else :\n",
    "        print(\"age is valid\" )"
   ]
  },
  {
   "cell_type": "code",
   "execution_count": 8,
   "id": "7b8a1fd0-1ed2-4dae-b82a-57b6e2eee6a7",
   "metadata": {},
   "outputs": [
    {
     "name": "stdin",
     "output_type": "stream",
     "text": [
      "Enter your age :  21\n"
     ]
    },
    {
     "name": "stdout",
     "output_type": "stream",
     "text": [
      "age is valid\n"
     ]
    }
   ],
   "source": [
    "try:\n",
    "    age = int(input(\"Enter your age : \"))\n",
    "    validaetage(age)\n",
    "except validateage as e :\n",
    "    print(e)\n",
    "    #also \n",
    "    logging.error(\"the error is {}\".format(e))"
   ]
  },
  {
   "cell_type": "code",
   "execution_count": null,
   "id": "78376a25-9f5b-4d6f-91e5-84bc3f7e0202",
   "metadata": {},
   "outputs": [],
   "source": []
  }
 ],
 "metadata": {
  "kernelspec": {
   "display_name": "Python 3 (ipykernel)",
   "language": "python",
   "name": "python3"
  },
  "language_info": {
   "codemirror_mode": {
    "name": "ipython",
    "version": 3
   },
   "file_extension": ".py",
   "mimetype": "text/x-python",
   "name": "python",
   "nbconvert_exporter": "python",
   "pygments_lexer": "ipython3",
   "version": "3.10.8"
  }
 },
 "nbformat": 4,
 "nbformat_minor": 5
}
