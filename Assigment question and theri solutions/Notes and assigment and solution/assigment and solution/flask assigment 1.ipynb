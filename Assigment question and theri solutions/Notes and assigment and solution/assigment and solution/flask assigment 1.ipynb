{
 "cells": [
  {
   "cell_type": "markdown",
   "id": "d7ba8c55-1bae-4198-863e-d6c0fe1bd35a",
   "metadata": {},
   "source": [
    "Q1. What is Flask Framework? What are the advantages of Flask Framework?"
   ]
  },
  {
   "cell_type": "markdown",
   "id": "61c5e572-424a-4643-bc55-cd79a1796561",
   "metadata": {},
   "source": [
    "Flask is a web framework that allows developers to build lightweight web applications quickly and easily with Flask Libraries. It was developed by Armin Ronacher, leader of the International Group of Python Enthusiasts(POCCO). It is basically based on the WSGI toolkit and Jinja2 templating engine.\n",
    "\n",
    " ### Reason 2: Easy to Use and Flexible\n",
    "### Reason 3: Greater Control Over Codes\n",
    "### Reason 4: Support for Testing"
   ]
  },
  {
   "cell_type": "markdown",
   "id": "28ed3aea-42f1-412b-a5ac-e29c630d89ff",
   "metadata": {},
   "source": [
    "Q2. Create a simple Flask application to display ‘Hello World!!’. Attach the screenshot of the output in \n",
    "Jupyter Notebook."
   ]
  },
  {
   "cell_type": "code",
   "execution_count": 1,
   "id": "c3a426fe-025f-484f-b87e-711784f2e5b8",
   "metadata": {},
   "outputs": [
    {
     "name": "stdout",
     "output_type": "stream",
     "text": [
      "Requirement already satisfied: flask in /opt/conda/lib/python3.10/site-packages (2.3.2)\n",
      "Requirement already satisfied: itsdangerous>=2.1.2 in /opt/conda/lib/python3.10/site-packages (from flask) (2.1.2)\n",
      "Requirement already satisfied: blinker>=1.6.2 in /opt/conda/lib/python3.10/site-packages (from flask) (1.6.2)\n",
      "Requirement already satisfied: Werkzeug>=2.3.3 in /opt/conda/lib/python3.10/site-packages (from flask) (2.3.6)\n",
      "Requirement already satisfied: click>=8.1.3 in /opt/conda/lib/python3.10/site-packages (from flask) (8.1.3)\n",
      "Requirement already satisfied: Jinja2>=3.1.2 in /opt/conda/lib/python3.10/site-packages (from flask) (3.1.2)\n",
      "Requirement already satisfied: MarkupSafe>=2.0 in /opt/conda/lib/python3.10/site-packages (from Jinja2>=3.1.2->flask) (2.1.1)\n",
      "Note: you may need to restart the kernel to use updated packages.\n"
     ]
    }
   ],
   "source": [
    "pip install flask\n"
   ]
  },
  {
   "cell_type": "code",
   "execution_count": null,
   "id": "cb2095b5-1546-4032-916c-210c0b7280d9",
   "metadata": {},
   "outputs": [
    {
     "name": "stdout",
     "output_type": "stream",
     "text": [
      " * Serving Flask app '__main__'\n",
      " * Debug mode: off\n"
     ]
    },
    {
     "name": "stderr",
     "output_type": "stream",
     "text": [
      "WARNING: This is a development server. Do not use it in a production deployment. Use a production WSGI server instead.\n",
      " * Running on all addresses (0.0.0.0)\n",
      " * Running on http://127.0.0.1:5000\n",
      " * Running on http://172.18.0.16:5000\n",
      "Press CTRL+C to quit\n"
     ]
    }
   ],
   "source": [
    "from flask import Flask\n",
    "app = Flask(__name__)\n",
    "\n",
    "@app.route(\"/\")\n",
    "def show():\n",
    "    return\"Hello  world\"\n",
    "if __name__ == \"__main__\":\n",
    "    app.run(host=\"0.0.0.0\")\n"
   ]
  },
  {
   "cell_type": "markdown",
   "id": "d550ba85-ae3e-44ed-830e-e7dc85fb921c",
   "metadata": {},
   "source": [
    "![](hello_world.png)"
   ]
  },
  {
   "cell_type": "markdown",
   "id": "be3bda13-fd3f-4ccc-a884-140aecf20f54",
   "metadata": {},
   "source": [
    "Q3. What is App routing in Flask? Why do we use app routes?"
   ]
  },
  {
   "cell_type": "markdown",
   "id": "5e426041-3491-4e37-99ff-c11de6b4ec2e",
   "metadata": {},
   "source": [
    "App routing is the technique used to map the specific URL with the associated function intended to perform some task. The Latest Web frameworks use the routing technique to help users remember application URLs. It is helpful to access the desired page directly without navigating from the home page.\n",
    "In our first application, the URL ('/') is associated with the home function that returns a particular string displayed on the web page."
   ]
  },
  {
   "cell_type": "markdown",
   "id": "70b67676-091e-4a2a-a04f-750a14fd55c1",
   "metadata": {},
   "source": [
    "Q4.  Create a “/welcome” route to display the welcome message “Welcome to ABC Corporation” and a “/” \n",
    "route to show the following details:\n",
    "\n",
    "    Company Name: ABC Corporation\n",
    "\n",
    "    Location: India\n",
    "\n",
    "    Contact Detail: 999-999-9999 "
   ]
  },
  {
   "cell_type": "code",
   "execution_count": 1,
   "id": "8dd9b726-0f7a-4e5e-9162-04b7a8e481e1",
   "metadata": {},
   "outputs": [
    {
     "name": "stdout",
     "output_type": "stream",
     "text": [
      "Requirement already satisfied: flask in /opt/conda/lib/python3.10/site-packages (2.3.2)\n",
      "Requirement already satisfied: Jinja2>=3.1.2 in /opt/conda/lib/python3.10/site-packages (from flask) (3.1.2)\n",
      "Requirement already satisfied: click>=8.1.3 in /opt/conda/lib/python3.10/site-packages (from flask) (8.1.3)\n",
      "Requirement already satisfied: Werkzeug>=2.3.3 in /opt/conda/lib/python3.10/site-packages (from flask) (2.3.6)\n",
      "Requirement already satisfied: blinker>=1.6.2 in /opt/conda/lib/python3.10/site-packages (from flask) (1.6.2)\n",
      "Requirement already satisfied: itsdangerous>=2.1.2 in /opt/conda/lib/python3.10/site-packages (from flask) (2.1.2)\n",
      "Requirement already satisfied: MarkupSafe>=2.0 in /opt/conda/lib/python3.10/site-packages (from Jinja2>=3.1.2->flask) (2.1.1)\n",
      "Note: you may need to restart the kernel to use updated packages.\n"
     ]
    }
   ],
   "source": [
    "pip install flask"
   ]
  },
  {
   "cell_type": "code",
   "execution_count": null,
   "id": "2b99edfa-8f4e-4f31-8b1c-6d9d98b88b64",
   "metadata": {},
   "outputs": [
    {
     "name": "stdout",
     "output_type": "stream",
     "text": [
      " * Serving Flask app '__main__'\n",
      " * Debug mode: off\n"
     ]
    },
    {
     "name": "stderr",
     "output_type": "stream",
     "text": [
      "WARNING: This is a development server. Do not use it in a production deployment. Use a production WSGI server instead.\n",
      " * Running on all addresses (0.0.0.0)\n",
      " * Running on http://127.0.0.1:5000\n",
      " * Running on http://172.18.0.16:5000\n",
      "Press CTRL+C to quit\n",
      "172.18.0.2 - - [13/Jun/2023 04:19:18] \"GET / HTTP/1.1\" 200 -\n",
      "172.18.0.2 - - [13/Jun/2023 04:19:32] \"GET /welcome HTTP/1.1\" 200 -\n",
      "172.18.0.2 - - [13/Jun/2023 04:20:40] \"GET / HTTP/1.1\" 200 -\n"
     ]
    }
   ],
   "source": [
    "from flask import Flask\n",
    "app = Flask(__name__)\n",
    "\n",
    "@app.route('/welcome')\n",
    "def welcome():\n",
    "    return 'Welcome to ABC Corporation'\n",
    "\n",
    "@app.route('/')\n",
    "def company_info():\n",
    "    return 'Company Name: ABC Corporation, Location: India,Contact Detail: 999-999-9999'\n",
    "\n",
    "if __name__ == '__main__':\n",
    "        app.run(host=\"0.0.0.0\")\n",
    "\n"
   ]
  },
  {
   "cell_type": "code",
   "execution_count": 9,
   "id": "3756dcd2-2b4f-49d0-a525-77b3ad893e43",
   "metadata": {},
   "outputs": [
    {
     "name": "stdout",
     "output_type": "stream",
     "text": [
      "3030\n"
     ]
    }
   ],
   "source": [
    "print(\"3030\")"
   ]
  },
  {
   "cell_type": "markdown",
   "id": "f82a8738-033a-421c-9c1e-34e0cb215327",
   "metadata": {},
   "source": [
    "![screen](abc.png)"
   ]
  },
  {
   "cell_type": "markdown",
   "id": "bf6a2fbb-0797-479c-a14d-4bb33858db57",
   "metadata": {},
   "source": [
    "![](company.png)"
   ]
  },
  {
   "cell_type": "markdown",
   "id": "186c6820-1169-4754-a168-7f7ecd2015d8",
   "metadata": {},
   "source": [
    "Q5. What function is used in Flask for URL Building? Write a Python code to demonstrate the working of the \n",
    "url_for() function"
   ]
  },
  {
   "cell_type": "markdown",
   "id": "e66f70db-171f-499e-bbdf-2c5f0eb02a32",
   "metadata": {},
   "source": [
    "For building URLs in flask, we use the url_for() function. The name of the function is accepted as its first argument and any number of keyword arguments. The unknown variable parts in a website are then appended to the URL as query parameters."
   ]
  },
  {
   "cell_type": "code",
   "execution_count": null,
   "id": "9ddfbf4a-db91-4f68-81b7-371e88e5a179",
   "metadata": {},
   "outputs": [],
   "source": [
    "from flask import Flask, url_for\n",
    "app = Flask(__name__)\n",
    "\n",
    "@app.route('/admin')\n",
    "def hello_admin():\n",
    "   return 'Hello Admin'\n",
    "\n",
    "@app.route('/guest/<guest>')\n",
    "def hello_guest(guest):\n",
    "   return 'Hello %s as Guest' % guest\n",
    "\n",
    "@app.route('/user/<username>')\n",
    "def profile(username):\n",
    "    return '{}'s profile'.format(username)\n",
    "\n",
    "@app.route('/users/<name>')\n",
    "def hello_user(name):\n",
    "   if name =='admin':\n",
    "      return redirect(url_for('hello_admin'))\n",
    "   else:\n",
    "      return redirect(url_for('hello_guest',guest = name))"
   ]
  }
 ],
 "metadata": {
  "kernelspec": {
   "display_name": "Python 3 (ipykernel)",
   "language": "python",
   "name": "python3"
  },
  "language_info": {
   "codemirror_mode": {
    "name": "ipython",
    "version": 3
   },
   "file_extension": ".py",
   "mimetype": "text/x-python",
   "name": "python",
   "nbconvert_exporter": "python",
   "pygments_lexer": "ipython3",
   "version": "3.10.8"
  }
 },
 "nbformat": 4,
 "nbformat_minor": 5
}
