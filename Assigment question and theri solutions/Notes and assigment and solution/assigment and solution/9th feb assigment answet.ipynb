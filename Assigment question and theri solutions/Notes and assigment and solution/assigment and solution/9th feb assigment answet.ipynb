{
 "cells": [
  {
   "cell_type": "markdown",
   "id": "ab044249-8f5c-4047-b5eb-09af817a2249",
   "metadata": {},
   "source": [
    "Q1, Create a vehicle class with an init method having instance variables as name_of_vehicle, max_speed and average_of_vehicle.\n",
    "\n"
   ]
  },
  {
   "cell_type": "code",
   "execution_count": 1,
   "id": "701359f3-a78d-42a2-b2a7-cd9928e59e5a",
   "metadata": {},
   "outputs": [
    {
     "name": "stdout",
     "output_type": "stream",
     "text": [
      "211 23 mahindra\n"
     ]
    }
   ],
   "source": [
    "class Vehicle:\n",
    "    def __init__(self,name_of_vechicle,max_speed,average_of_vechile):\n",
    "        self.name_of_vechicle = name_of_vechicle\n",
    "        self.max_speed = max_speed\n",
    "        self.average_of_vechile = average_of_vechile\n",
    "        \n",
    "    def show(self):\n",
    "        print( self.max_speed, self.average_of_vechile, self.name_of_vechicle)\n",
    "        \n",
    "obj = Vehicle(\"mahindra\",211, 23)\n",
    "obj.show()"
   ]
  },
  {
   "cell_type": "markdown",
   "id": "54b96ef4-3926-4216-9641-97ee58beccb2",
   "metadata": {},
   "source": [
    "Q2. Create a child class car from the vehicle class created in Que 1, which will inherit the vehicle class. Create a method named seating_capacity which takes capacity as an argument and returns the name of the vehicle and its seating capacity."
   ]
  },
  {
   "cell_type": "code",
   "execution_count": 2,
   "id": "2c4fdd57-8707-42d0-b904-82f06276efb3",
   "metadata": {},
   "outputs": [],
   "source": [
    "class Vehicle:\n",
    "    def __init__(self, name_of_vehicle, max_speed, average_of_vehicle):\n",
    "        self.name_of_vehicle = name_of_vehicle\n",
    "        self.max_speed = max_speed\n",
    "        self.average_of_vehicle = average_of_vehicle\n",
    "\n",
    "class Car(Vehicle):\n",
    "    def seating_capacity(self, capacity):\n",
    "        return self.name_of_vehicle, capacity"
   ]
  },
  {
   "cell_type": "markdown",
   "id": "7af15d6b-03dd-4c0e-b6dc-19b21ff0b201",
   "metadata": {},
   "source": [
    "Q3. What is multiple inheritance? Write a python code to demonstrate multiple inheritance"
   ]
  },
  {
   "cell_type": "code",
   "execution_count": 4,
   "id": "5eb98297-9030-4631-89df-e5fd393c4f4c",
   "metadata": {},
   "outputs": [
    {
     "name": "stdout",
     "output_type": "stream",
     "text": [
      "21\n",
      "21\n"
     ]
    }
   ],
   "source": [
    "# When a class is derived from more than one base class it \n",
    "# is called multiple Inheritance. The derived class inherits all the features of the base case.\n",
    "class Geek:\n",
    "\tdef __init__(self, age = 0):\n",
    "\t\tself._age = age\n",
    "\t\n",
    "\t# getter method\n",
    "\tdef get_age(self):\n",
    "\t\treturn self._age\n",
    "\t\n",
    "\t# setter method\n",
    "\tdef set_age(self, x):\n",
    "\t\tself._age = x\n",
    "\n",
    "raj = Geek()\n",
    "\n",
    "# setting the age using setter\n",
    "raj.set_age(21)\n",
    "\n",
    "# retrieving age using getter\n",
    "print(raj.get_age())\n",
    "\n",
    "print(raj._age)"
   ]
  },
  {
   "cell_type": "markdown",
   "id": "a9674399-d14c-4f1d-972a-75fad9a0707a",
   "metadata": {},
   "source": [
    "Q4. What are getter and setter in python? Create a class and create a getter and a setter method in this class."
   ]
  },
  {
   "cell_type": "markdown",
   "id": "36ef7443-80e9-4b01-b788-43a7bac5f93e",
   "metadata": {},
   "source": [
    "In Python, the concept of getters and setters is not used as in other object-oriented programming languages. Instead, the @property decorator is used to define a method as a getter, and the @. setter decorator is used to define a method as a setter12. The @property decorator is used to define a method as a getter method, which is used to retrieve the value of a variable, while the @.setter decorator is used to define a method as a setter method, which is used to set or update the value of a variable"
   ]
  },
  {
   "cell_type": "code",
   "execution_count": 5,
   "id": "3ff07c34-5659-4c31-be89-5227765881f7",
   "metadata": {},
   "outputs": [],
   "source": [
    "class Student:\n",
    "    \n",
    "    def SetName(self,n):\n",
    "        self.__Name = n \n",
    "    def GetName(self):\n",
    "        return self.__Name \n",
    "    \n",
    "    def Setmarks(self,m):\n",
    "        self.__marks = m\n",
    "    def Getmarks(self):\n",
    "        return self.__marks\n",
    "    \n",
    "    def displayinfo(self):\n",
    "        print(\"Name of student is\", self.__Name)\n",
    "        print(\"Marks of students is\", self.__marks)"
   ]
  },
  {
   "cell_type": "code",
   "execution_count": null,
   "id": "6469f143-7f5e-4878-bf9c-a887346cd0e9",
   "metadata": {},
   "outputs": [],
   "source": []
  }
 ],
 "metadata": {
  "kernelspec": {
   "display_name": "Python 3 (ipykernel)",
   "language": "python",
   "name": "python3"
  },
  "language_info": {
   "codemirror_mode": {
    "name": "ipython",
    "version": 3
   },
   "file_extension": ".py",
   "mimetype": "text/x-python",
   "name": "python",
   "nbconvert_exporter": "python",
   "pygments_lexer": "ipython3",
   "version": "3.10.8"
  }
 },
 "nbformat": 4,
 "nbformat_minor": 5
}
