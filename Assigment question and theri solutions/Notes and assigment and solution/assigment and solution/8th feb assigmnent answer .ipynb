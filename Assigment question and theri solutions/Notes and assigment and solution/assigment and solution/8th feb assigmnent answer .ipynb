{
 "cells": [
  {
   "cell_type": "markdown",
   "id": "0c08395e-1559-4a76-a2d2-d1d4e0a65868",
   "metadata": {},
   "source": [
    "Q1. What is Abstraction in OOps? Explain with an example.\n"
   ]
  },
  {
   "cell_type": "code",
   "execution_count": 1,
   "id": "ef044699-7ca8-4499-ab07-2e1150a00bd2",
   "metadata": {},
   "outputs": [
    {
     "data": {
      "text/plain": [
       "'this will return s students details for data science masters '"
      ]
     },
     "execution_count": 1,
     "metadata": {},
     "output_type": "execute_result"
    }
   ],
   "source": [
    "import abc\n",
    "class pwskills:\n",
    "    @abc.abstractmethod\n",
    "    def student_details(self):\n",
    "        pass\n",
    "    @abc.abstractmethod\n",
    "    def student_assigment(self):\n",
    "        pass\n",
    "    @abc.abstractmethod\n",
    "    def student_marks(self):\n",
    "        pass\n",
    "    \n",
    "class student_details(pwskills):\n",
    "     \n",
    "    def student_details(self):\n",
    "        return 'this is meth for taking student details'\n",
    "    def student_assigment(self):\n",
    "        return \"this is a meth for assign details for a perticualt student\"\n",
    "    \n",
    "class data_science_masters(pwskills):\n",
    "    def student_details(self):\n",
    "        return \"this will return s students details for data science masters \"\n",
    "    def student_assigment(self):\n",
    "        return \"this will give you a student assigment for data science masters \"\n",
    "dsm = data_science_masters()\n",
    "dsm.student_details()"
   ]
  },
  {
   "cell_type": "markdown",
   "id": "94efa77d-9ec2-4956-8062-27a51ac637d9",
   "metadata": {},
   "source": [
    "Q2. Differentiate between Abstraction and Encapsulation. Explain with an example.\n"
   ]
  },
  {
   "cell_type": "raw",
   "id": "0baf1470-bd5a-4d13-813d-903410af7198",
   "metadata": {},
   "source": [
    "Definition\n",
    "Abstraction is hiding the details and implementation of the code. Encapsulation is hiding the data and controlling the visibility \n",
    "of the code.\n",
    "\n",
    "Phase\n",
    "Abstraction is a design level process. Encapsulation is an implementation level process. Pivotal Ability Abstraction is \n",
    "concerned about what a class instance can do, instead of the implementation of the class. Encapsulation helps in data binding and control over maintaining the transparency of the data.\n",
    "\n",
    "Use Case\n",
    "Abstraction is a design level process and it is used to reduce the complexity at the designing stage of a project. Encapsulation\n",
    "is an implementation level process, and it is used to provide privacy and maintain control over thetransparency of data at the \n",
    "implementation stage of a project."
   ]
  },
  {
   "cell_type": "code",
   "execution_count": null,
   "id": "3f926b1c-c332-4f94-a908-c654de030813",
   "metadata": {},
   "outputs": [],
   "source": []
  }
 ],
 "metadata": {
  "kernelspec": {
   "display_name": "Python 3 (ipykernel)",
   "language": "python",
   "name": "python3"
  },
  "language_info": {
   "codemirror_mode": {
    "name": "ipython",
    "version": 3
   },
   "file_extension": ".py",
   "mimetype": "text/x-python",
   "name": "python",
   "nbconvert_exporter": "python",
   "pygments_lexer": "ipython3",
   "version": "3.10.8"
  }
 },
 "nbformat": 4,
 "nbformat_minor": 5
}
