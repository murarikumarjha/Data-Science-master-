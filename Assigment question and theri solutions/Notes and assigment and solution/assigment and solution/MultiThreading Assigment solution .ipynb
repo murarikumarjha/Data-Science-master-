{
 "cells": [
  {
   "cell_type": "markdown",
   "id": "dbcb3c6b-2369-44aa-a65b-9638def98658",
   "metadata": {},
   "source": [
    "Q1. hat is multithreading in python? why is it used? Name the module used to handle threads in python?"
   ]
  },
  {
   "cell_type": "markdown",
   "id": "1bf5d17d-c383-499b-8638-c7736125b2dd",
   "metadata": {},
   "source": [
    "Multi-threading: Multiple threads can exist within one process where:\n",
    "\n",
    "Each thread contains its own register set and local variables (stored in stack).\n",
    "All threads of a process share global variables (stored in heap) and the program code.\n",
    " threading module is imported\n",
    "\n",
    " In Python, the threading module provides a very simple and intuitive API for spawning \n",
    "multiple threads in a program. "
   ]
  },
  {
   "cell_type": "markdown",
   "id": "d6a5880d-bed6-44da-8e53-4d7ba67a2a2e",
   "metadata": {},
   "source": [
    "Q2. Why threading module used? rite the use of the following functions\n",
    "( activeCount\n",
    " currentThread\n",
    " enumerate)"
   ]
  },
  {
   "cell_type": "markdown",
   "id": "6ce698bc-acc9-49c0-b2bc-058b67aaab31",
   "metadata": {},
   "source": [
    "The threading module is used in Python to create and manage threads. It provides a way to run multiple threads \n",
    "(concurrent threads) concurrently on a single process. Threads are used to execute multiple tasks simultaneously.\n",
    "The threading module provides a simple and intuitive API for spawning multiple threads in a program.\n"
   ]
  },
  {
   "cell_type": "code",
   "execution_count": 2,
   "id": "2d0fa350-fb4f-48b4-808b-e5367ac83fad",
   "metadata": {},
   "outputs": [
    {
     "name": "stdout",
     "output_type": "stream",
     "text": [
      "before False\n",
      "native id of t1 thread:  430\n",
      "main thread details <_MainThread(MainThread, started 140368892598080)>\n",
      "Hello world\n",
      "Hello world\n",
      "Hello world\n",
      "Hello world\n",
      "Hii\n",
      "Hii\n",
      "Hii\n",
      "native id of main thread:  189\n",
      "number of active count:  8\n",
      "list of running threads are :  [<_MainThread(MainThread, started 140368892598080)>, <Thread(IOPub, started daemon 140368830232128)>, <Heartbeat(Heartbeat, started daemon 140368821839424)>, <Thread(Thread-3 (_watch_pipe_fd), started daemon 140368590927424)>, <Thread(Thread-4 (_watch_pipe_fd), started daemon 140368582534720)>, <ControlThread(Control, started daemon 140368574142016)>, <HistorySavingThread(IPythonHistorySavingThread, started 140368565749312)>, <ParentPollerUnix(Thread-2, started daemon 140368557356608)>]\n",
      "after False\n"
     ]
    }
   ],
   "source": [
    "from threading import Thread,main_thread,active_count,enumerate,get_native_id\n",
    "def display():\n",
    "    print(\"native id of t1 thread: \",get_native_id())\n",
    "    print('main thread details', main_thread())\n",
    "    for i in range(4):\n",
    "        print(\"Hello world\")\n",
    "    def show():\n",
    "        for i in range(3):\n",
    "            print('Hii')\n",
    "    show()\n",
    "        \n",
    "t1 = Thread(target=display)\n",
    "print(\"before\",t1.is_alive())\n",
    "t1.start()\n",
    "print(\"native id of main thread: \",get_native_id())\n",
    "print(\"number of active count: \",active_count())\n",
    "print(\"list of running threads are : \",enumerate())\n",
    "\n",
    "print(\"after\",t1.is_alive())"
   ]
  },
  {
   "cell_type": "markdown",
   "id": "84138430-1dea-421c-b85f-249c2344f5e5",
   "metadata": {},
   "source": [
    "3. Explain the following functions\n",
    " run\n",
    " start\n",
    " join\n",
    "isAlive"
   ]
  },
  {
   "cell_type": "markdown",
   "id": "5582f5ff-54c3-4b6f-b3e0-68f28afed987",
   "metadata": {},
   "source": [
    " run :- The run method designates thread body. The run method gets it code on two ways.\n",
    "One is when the run method is overridden in a subclass.\n",
    "Another is when a callable object is passed as a target through the constructor of the Thread class."
   ]
  },
  {
   "cell_type": "markdown",
   "id": "85bd69f1-e8dd-4952-9cd6-30fc5e45c5b0",
   "metadata": {},
   "source": [
    "start() :- he Thread.start() method is an inbuilt method of the Thread class of the threading module,\n",
    "it is used to start a thread's activity. \n",
    "This method calls the run() method internally which then executes the target method. \n",
    "This method must be called at most one time for one thread. If it is called more than once, it raises a\n",
    "RuntimeError."
   ]
  },
  {
   "cell_type": "markdown",
   "id": "f120e074-8d8e-457d-9f46-a8dc70cdd917",
   "metadata": {},
   "source": [
    " join(): - On invoking the join() method, the calling thread gets blocked until the thread object (on which the thread is called) gets terminated. The thread objects can terminate under any one of the following conditions:\n",
    "\n",
    "Either normally.\n",
    "Through an ill-handled exception.\n",
    "Till the optional timeout occurs."
   ]
  },
  {
   "cell_type": "markdown",
   "id": "91dd0f65-b458-479e-9b12-c3043f2d9b10",
   "metadata": {},
   "source": [
    "is_alive(): -The Thread.is_alive() method is an inbuilt method of the \n",
    "Thread class of the threading module, it is used to check whether that thread \n",
    "is alive or not, ie, it is still running or not. This method returns True before the run() s\n",
    "tarts until just after the run() method is executed"
   ]
  },
  {
   "cell_type": "markdown",
   "id": "a4b48503-b1e7-4ce2-b871-b11f98e035e0",
   "metadata": {},
   "source": [
    "Q4. Write a python program to create two threads. Thread one must print the list of squares and thread\n",
    "two must print the list of cubes"
   ]
  },
  {
   "cell_type": "code",
   "execution_count": 3,
   "id": "79b5deca-993d-4aca-a3ef-71c5b79e507e",
   "metadata": {},
   "outputs": [
    {
     "name": "stdout",
     "output_type": "stream",
     "text": [
      "Finding square...\n",
      "Finding cube...\n",
      "square of 3 is: cube of 3 is: 27\n",
      " 9\n"
     ]
    }
   ],
   "source": [
    "from threading import Thread\n",
    "import time\n",
    "def square(num):\n",
    "    print(\"Finding square...\")\n",
    "    time.sleep(1)\n",
    "    print(f\"square of {num} is: \",num**2)\n",
    "\n",
    "def cube(num):\n",
    "    print(\"Finding cube...\")\n",
    "    time.sleep(1)\n",
    "    print(f\"cube of {num} is:\", num**3)\n",
    "begin = time.time()\n",
    "t1= Thread(target=square, args=(3,))\n",
    "t2= Thread(target=cube, args=(3,))\n",
    "t1.start()\n",
    "t2.start()\n",
    "t1.join()\n",
    "t2.join()\n",
    "\n",
    "\n",
    "# another program without using multithreading"
   ]
  },
  {
   "cell_type": "markdown",
   "id": "f2aaf11d-214e-43ad-8129-d70578c57850",
   "metadata": {},
   "source": [
    "q5. State advantages and disadvantages of multithreading"
   ]
  },
  {
   "cell_type": "markdown",
   "id": "ae0d06a4-dc67-4c71-a593-8ae791490dcd",
   "metadata": {},
   "source": [
    "Multithreading has several advantages and disadvantages. Some of the advantages are:\n",
    "\n",
    "It allows multiple threads to run concurrently on a single process.\n",
    "It can improve the performance of an application by allowing it to execute multiple tasks simultaneously.\n",
    "It can help reduce the time it takes for an application to complete a task.\n",
    "It can help improve the responsiveness of an application by allowing it to continue processing user input while performing other tasks.\n",
    "Some of the disadvantages are:\n",
    "\n",
    "Multithreading can be difficult to implement and debug.\n",
    "It can lead to synchronization issues if not implemented correctly.\n",
    "It can lead to race conditions if not implemented correctly.\n",
    "It can lead to deadlocks if not implemented correctly."
   ]
  },
  {
   "cell_type": "markdown",
   "id": "65fc6e3e-d001-4bdc-89a4-0bf9e7415344",
   "metadata": {},
   "source": [
    "Q6. Explain deadlocks and race conditions."
   ]
  },
  {
   "cell_type": "markdown",
   "id": "0819fef1-d849-45e8-af5f-beb3e6ae2354",
   "metadata": {},
   "source": [
    "A race condition occurs when two threads use the same variable at a given time. Deadlock exists when two threads seek one lock simultaneously.  \n",
    "\n",
    "This situation will stop both threads from processing or executing the functions. In racing, two tasks compete with each other and try to complete a task before each other."
   ]
  },
  {
   "cell_type": "code",
   "execution_count": null,
   "id": "e7d220e4-da91-4a0a-aa4f-1bfa93b0bd2c",
   "metadata": {},
   "outputs": [],
   "source": []
  }
 ],
 "metadata": {
  "kernelspec": {
   "display_name": "Python 3 (ipykernel)",
   "language": "python",
   "name": "python3"
  },
  "language_info": {
   "codemirror_mode": {
    "name": "ipython",
    "version": 3
   },
   "file_extension": ".py",
   "mimetype": "text/x-python",
   "name": "python",
   "nbconvert_exporter": "python",
   "pygments_lexer": "ipython3",
   "version": "3.10.8"
  }
 },
 "nbformat": 4,
 "nbformat_minor": 5
}
